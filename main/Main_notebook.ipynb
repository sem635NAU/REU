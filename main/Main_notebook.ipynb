{
 "cells": [
  {
   "cell_type": "markdown",
   "id": "1d55a4f9-7efa-4322-97fc-99823cc1ccef",
   "metadata": {},
   "source": [
    "### First start by laying out the structure of the Notebook\n",
    "- Import statements\n",
    "- How to generate sps, obs, wspec, params\n",
    "- How to getModel\n",
    "- Make a .py file to run everything from start to end\n",
    "\n"
   ]
  },
  {
   "cell_type": "code",
   "execution_count": 1,
   "id": "14862463-f236-484c-9ccf-34782719021d",
   "metadata": {},
   "outputs": [],
   "source": [
    "import numpy as np\n",
    "from matplotlib.pyplot import *\n",
    "from prospect.models.templates import TemplateLibrary"
   ]
  },
  {
   "cell_type": "code",
   "execution_count": null,
   "id": "480913f0-f803-4613-95d8-6fb5721f5eb6",
   "metadata": {},
   "outputs": [],
   "source": []
  }
 ],
 "metadata": {
  "kernelspec": {
   "display_name": "Python 3 (ipykernel)",
   "language": "python",
   "name": "python3"
  },
  "language_info": {
   "codemirror_mode": {
    "name": "ipython",
    "version": 3
   },
   "file_extension": ".py",
   "mimetype": "text/x-python",
   "name": "python",
   "nbconvert_exporter": "python",
   "pygments_lexer": "ipython3",
   "version": "3.13.4"
  }
 },
 "nbformat": 4,
 "nbformat_minor": 5
}
