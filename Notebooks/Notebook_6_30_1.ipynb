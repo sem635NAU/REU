{
 "cells": [
  {
   "cell_type": "code",
   "execution_count": null,
   "id": "91e94b85-f247-40fa-a05d-6fb56d946c0b",
   "metadata": {},
   "outputs": [],
   "source": [
    "# Recreating Zach's prospector generation code but with my parameter space"
   ]
  },
  {
   "cell_type": "code",
   "execution_count": 1,
   "id": "eee87fca-f2e1-434b-8a0c-1912bfe724b2",
   "metadata": {},
   "outputs": [],
   "source": [
    "from matplotlib.pyplot import *\n",
    "from prospectFunctions import *\n",
    "import time\n",
    "from prospect.sources import CSPSpecBasis #, FastStepBasis\n",
    "from prospect.models.templates import TemplateLibrary#, describe\n",
    "from astropy.cosmology import Planck13\n",
    "from prospect.models import SpecModel\n",
    "from tqdm import tqdm\n",
    "import itertools\n",
    "import astropy.units as u\n",
    "import astropy.constants as const"
   ]
  },
  {
   "cell_type": "code",
   "execution_count": 2,
   "id": "52974c6f-cd58-492f-8ad0-d4748ab2219f",
   "metadata": {},
   "outputs": [],
   "source": [
    "run_params = {}\n",
    "run_params['zred'] = 3.548\n",
    "run_params['mass'] = 1e8\n",
    "run_params['add_duste'] = False\n",
    "run_params['zcontinuous'] = 1\n",
    "\n",
    "grid_ranges = {}\n",
    "grid_ranges['logzsol'] = np.linspace(-1,.5,10)\n",
    "grid_ranges['dust2'] = np.linspace(0,3,10)\n",
    "grid_ranges['tage'] = np.linspace(7,9,10)\n",
    "\n",
    "# a = 1.0 + run_params['zred']\n",
    "\n",
    "# obs = getObs(**run_params)\n",
    "# sps = getSps(**run_params)\n",
    "# wspec, wphot = getWave(obs=obs,sps=sps,**run_params)"
   ]
  },
  {
   "cell_type": "code",
   "execution_count": 3,
   "id": "208774d8-d5dc-4891-8b29-7b289779d9ac",
   "metadata": {},
   "outputs": [
    {
     "name": "stdout",
     "output_type": "stream",
     "text": [
      "Prospector matrix shape: (125, 3)\n"
     ]
    }
   ],
   "source": [
    "# ==================MAKE GRID OF PROSPECTOR GALAXIES======================\n",
    "\n",
    "n_elem = 5 # number of elements for M*, SFR, z, 12+log(O/H). this is the \"resolution\"\n",
    "n_param = 3 # number of parameters we'll vary\n",
    "\n",
    "dust_arr = np.linspace(0, 3, n_elem)\n",
    "logzsol_arr = np.linspace(-1, .5, n_elem)\n",
    "tage_arr = np.linspace(7, 9, n_elem)\n",
    "\n",
    "pros_mat = np.array(np.meshgrid(logzsol_arr, dust_arr, tage_arr)).T\n",
    "pros_arr = pros_mat.reshape(int(np.prod(pros_mat.shape) / n_param), n_param)\n",
    "\n",
    "print('Prospector matrix shape:', pros_arr.shape)"
   ]
  },
  {
   "cell_type": "code",
   "execution_count": null,
   "id": "94117df4-e36b-4c32-bfec-0cb79f75c18c",
   "metadata": {},
   "outputs": [],
   "source": [
    "# generate empty arrays to fill\n",
    "logzsol_pros, dust_pros, tage_pros = pros_arr[:, 0], pros_arr[:, 1], pros_arr[:, 2]"
   ]
  },
  {
   "cell_type": "code",
   "execution_count": 4,
   "id": "7c2750d8-1824-4afe-bef7-81807964628f",
   "metadata": {},
   "outputs": [
    {
     "name": "stdout",
     "output_type": "stream",
     "text": [
      "12.53\n"
     ]
    }
   ],
   "source": [
    "start = time.time()\n",
    "\n",
    "sps = CSPSpecBasis(zcontinuous=1)\n",
    "# filters = observate.load_filters(['jwst_f150w', 'jwst_f444w']) # we'll want F150W and F444W\n",
    "# see link below to add additional photometry\n",
    "# https://github.com/bd-j/sedpy/blob/main/sedpy/data/filters/README.md\n",
    "# obs = dict(wave_effective=[1494.4, 4378.7], spectrum=None, unc=None,\n",
    "#            maggies=np.ones(len(filters))*1e-10, maggies_unc=np.ones(len(filters))*1e-10, filters=filters)\n",
    "\n",
    "obs = getObs(**run_params)\n",
    "\n",
    "end = time.time()\n",
    "print(f'{(end-start):.2f}')\n",
    "\n",
    "wspec, wphot = getWave(obs=obs,sps=sps,**run_params)"
   ]
  },
  {
   "cell_type": "code",
   "execution_count": 5,
   "id": "feca9c94-1a10-4298-a287-b2056d1de578",
   "metadata": {},
   "outputs": [],
   "source": [
    "data_grid_params = np.empty((len(grid_ranges['logzsol']),len(grid_ranges['dust2']),len(grid_ranges['tage']),5))\n",
    "data_grid_spec = np.empty((len(grid_ranges['logzsol']),len(grid_ranges['dust2']),len(grid_ranges['tage']),len(wspec)))\n",
    "data_grid_phot = np.empty((len(grid_ranges['logzsol']),len(grid_ranges['dust2']),len(grid_ranges['tage']),len(wphot)))"
   ]
  },
  {
   "cell_type": "code",
   "execution_count": 11,
   "id": "471338a4-d5f1-438d-bb59-2f500c6ad6c6",
   "metadata": {},
   "outputs": [
    {
     "name": "stderr",
     "output_type": "stream",
     "text": [
      "136it [12:04,  5.33s/it]\n"
     ]
    },
    {
     "ename": "KeyboardInterrupt",
     "evalue": "",
     "output_type": "error",
     "traceback": [
      "\u001b[31m---------------------------------------------------------------------------\u001b[39m",
      "\u001b[31mKeyboardInterrupt\u001b[39m                         Traceback (most recent call last)",
      "\u001b[36mCell\u001b[39m\u001b[36m \u001b[39m\u001b[32mIn[11]\u001b[39m\u001b[32m, line 25\u001b[39m\n\u001b[32m     23\u001b[39m flux_density_spec = []\n\u001b[32m     24\u001b[39m \u001b[38;5;28;01mfor\u001b[39;00m wave,mag \u001b[38;5;129;01min\u001b[39;00m \u001b[38;5;28mzip\u001b[39m(wspec,init_spec):\n\u001b[32m---> \u001b[39m\u001b[32m25\u001b[39m     jy = mag*\u001b[32m3631.0\u001b[39m * u.Jy\n\u001b[32m     26\u001b[39m     flux = jy.to(u.erg / u.cm**\u001b[32m2\u001b[39m / u.s / u.AA, equivalencies=u.spectral_density(wave*u.AA))\n\u001b[32m     27\u001b[39m     flux_density_spec.append(flux.value*\u001b[32m10\u001b[39m**\u001b[32m20\u001b[39m)\n",
      "\u001b[36mFile \u001b[39m\u001b[32m~/anaconda3/envs/reu/lib/python3.13/site-packages/astropy/units/core.py:882\u001b[39m, in \u001b[36mUnitBase.__rmul__\u001b[39m\u001b[34m(self, m)\u001b[39m\n\u001b[32m    880\u001b[39m         \u001b[38;5;28;01mreturn\u001b[39;00m result\n\u001b[32m    881\u001b[39m     \u001b[38;5;28;01melse\u001b[39;00m:\n\u001b[32m--> \u001b[39m\u001b[32m882\u001b[39m         \u001b[38;5;28;01mreturn\u001b[39;00m Quantity(m, unit=\u001b[38;5;28mself\u001b[39m)\n\u001b[32m    883\u001b[39m \u001b[38;5;28;01mexcept\u001b[39;00m \u001b[38;5;167;01mTypeError\u001b[39;00m:\n\u001b[32m    884\u001b[39m     \u001b[38;5;28;01mif\u001b[39;00m \u001b[38;5;28misinstance\u001b[39m(m, np.ndarray):\n",
      "\u001b[36mFile \u001b[39m\u001b[32m~/anaconda3/envs/reu/lib/python3.13/site-packages/astropy/units/quantity.py:531\u001b[39m, in \u001b[36mQuantity.__new__\u001b[39m\u001b[34m(cls, value, unit, dtype, copy, order, subok, ndmin)\u001b[39m\n\u001b[32m    528\u001b[39m         \u001b[38;5;28;01melif\u001b[39;00m unit \u001b[38;5;129;01mis\u001b[39;00m \u001b[38;5;129;01mnot\u001b[39;00m value_unit:\n\u001b[32m    529\u001b[39m             copy = COPY_IF_NEEDED  \u001b[38;5;66;03m# copy will be made in conversion at end\u001b[39;00m\n\u001b[32m--> \u001b[39m\u001b[32m531\u001b[39m value = np.array(\n\u001b[32m    532\u001b[39m     value, dtype=dtype, copy=copy, order=order, subok=\u001b[38;5;28;01mTrue\u001b[39;00m, ndmin=ndmin\n\u001b[32m    533\u001b[39m )\n\u001b[32m    535\u001b[39m \u001b[38;5;66;03m# For no-user-input unit, make sure the constructed unit matches the\u001b[39;00m\n\u001b[32m    536\u001b[39m \u001b[38;5;66;03m# structure of the data.\u001b[39;00m\n\u001b[32m    537\u001b[39m \u001b[38;5;28;01mif\u001b[39;00m using_default_unit \u001b[38;5;129;01mand\u001b[39;00m value.dtype.names \u001b[38;5;129;01mis\u001b[39;00m \u001b[38;5;129;01mnot\u001b[39;00m \u001b[38;5;28;01mNone\u001b[39;00m:\n",
      "\u001b[31mKeyboardInterrupt\u001b[39m: "
     ]
    }
   ],
   "source": [
    "start = time.time()\n",
    "\n",
    "for i_logz,i_dust,i_tage in tqdm(itertools.product(range(len(grid_ranges['logzsol'])),range(len(grid_ranges['dust2'])),range(len(grid_ranges['tage'])))):\n",
    "    \n",
    "    logz = grid_ranges['logzsol'][i_logz]\n",
    "    dust = grid_ranges['dust2'][i_dust]\n",
    "    tage = grid_ranges['tage'][i_tage]\n",
    "\n",
    "    run_params['tage'] = tage\n",
    "    run_params['dust2'] = dust\n",
    "    run_params['logzsol'] = logz\n",
    "\n",
    "    model = getModel(**run_params)\n",
    "    \n",
    "    init_spec, init_phot, init_mfrac = model.predict(model.theta, obs=obs, sps=sps)\n",
    "\n",
    "    flux_density_phot = []\n",
    "    for wave,mag in zip(wphot,init_phot):\n",
    "        jy = mag*3631.0 * u.Jy\n",
    "        flux = jy.to(u.erg / u.cm**2 / u.s / u.AA, equivalencies=u.spectral_density(wave*u.AA))\n",
    "        flux_density_phot.append(flux.value*10**20)\n",
    "\n",
    "    flux_density_spec = []\n",
    "    for wave,mag in zip(wspec,init_spec):\n",
    "        jy = mag*3631.0 * u.Jy\n",
    "        flux = jy.to(u.erg / u.cm**2 / u.s / u.AA, equivalencies=u.spectral_density(wave*u.AA))\n",
    "        flux_density_spec.append(flux.value*10**20)\n",
    "\n",
    "    data_grid_params[i_logz, i_dust, i_tage, :] = [run_params['zred'], run_params['mass'], logz, dust, tage]\n",
    "    data_grid_spec[i_logz, i_dust, i_tage, :] = init_spec # flux_density_spec\n",
    "    data_grid_phot[i_logz, i_dust, i_tage, :] = init_phot # flux_density_phot\n",
    "\n",
    "end = time.time()"
   ]
  },
  {
   "cell_type": "code",
   "execution_count": 10,
   "id": "2a95fb69-20dd-44d8-8477-2fd9f629df7d",
   "metadata": {},
   "outputs": [],
   "source": [
    "# 1000 iterations ^ in 3:02 (without converting units)\n",
    "# 1000 iterations ^ 5.33s/it (with converting units) D:"
   ]
  },
  {
   "cell_type": "code",
   "execution_count": null,
   "id": "4df8c23f-3da7-4e76-becb-572789532663",
   "metadata": {},
   "outputs": [],
   "source": [
    "# START LOOP\n",
    "print('Generating prospector models')\n",
    "for pp in tqdm(range(data_grid_params.shape[0])):\n",
    "\n",
    "    run_params\n",
    "    \n",
    "    # model = getModel(**run_params)\n",
    "\n",
    "    # try:\n",
    "    #     mass_fracs[pp] = sps.ssp.stellar_mass / sps.ssp.formed_mass\n",
    "    #     # prospector is weird. we give it the total mass, but only get the stellar mass out after the fact.\n",
    "    # except: mass_fracs[pp] = np.nan\n",
    "\n",
    "    # ssfr = 10 ** (lsfr_pros[pp]) / ((10 ** mass_pros[pp]) * mass_fracs[pp])\n",
    "    # model_params['gas_logu']['init'] = get_logu(np.log10(ssfr))\n",
    "    \n",
    "    # model = SpecModel(model_params)\n",
    "\n",
    "    # # current_parameters = \",\".join([f\"{p}={v}\" for p, v in zip(model.free_params, model.theta)])\n",
    "    # spec, phot, mfrac = model.predict(model.theta, obs=obs, sps=sps)\n",
    "\n",
    "    # emlines = (model._eline_lum * u.L_sun / u.M_sun * (10 ** mass_pros[pp] * u.M_sun))\n",
    "    # emlines = emlines / (4 * np.pi * Planck13.luminosity_distance(z_pros[pp]) ** 2)\n",
    "    # emlines = emlines.to(u.erg / u.s / u.cm ** 2).value\n",
    "    # # https://github.com/cconroy20/fsps/blob/master/data/emlines_info.dat\n",
    "    # has[pp], hbs[pp], oiiis[pp], siis0[pp], siis1[pp] = emlines[74], emlines[59], emlines[62], emlines[77], emlines[78]\n",
    "\n",
    "    # f150w_pros[pp], f444w_pros[pp] = phot[0], phot[1] \n",
    "\n",
    "# else: \n",
    "#     has[pp], hbs[pp], oiiis[pp], siis0[pp], siis1[pp] = np.nan, np.nan, np.nan, np.nan, np.nan\n",
    "#     f150w_pros[pp], f444w_pros[pp] = np.nan, np.nan"
   ]
  },
  {
   "cell_type": "code",
   "execution_count": null,
   "id": "157cc1ac-c058-4f25-a405-97d2456f791a",
   "metadata": {},
   "outputs": [],
   "source": [
    "model = getModel(**run_params)\n",
    "\n",
    "start = time.time()\n",
    "spec, phot, mfrac = model.predict(model.theta, obs, sps)\n",
    "end = time.time()\n",
    "\n",
    "print(end-start)"
   ]
  },
  {
   "cell_type": "code",
   "execution_count": null,
   "id": "72788f65-e849-4fda-9760-d056f843145b",
   "metadata": {},
   "outputs": [],
   "source": [
    "# TemplateLibrary.show_contents()\n",
    "# Probably will use TemplateLibrary['ssp']\n",
    "\n",
    "# TemplateLibrary['ssp']: Basic set of (free) parameters for a delta function SFH.\n",
    "\n",
    "# TemplateLibrary['parametric_sfh']: A \"delay-tau\" star formation history (SFH) is a model that describes how \n",
    "# the rate of star formation in a galaxy changes over time, specifically with a delayed exponential decline.\n",
    "\n",
    "# model_params['mass']['isfree'] = False\n",
    "# model_params['logzsol']['isfree'] = False\n",
    "# model_params['dust2']['isfree'] = False\n",
    "# model_params['tage']['isfree'] = False\n",
    "\n",
    "print(TemplateLibrary['ssp'].keys())\n",
    "TemplateLibrary['ssp']['tage']"
   ]
  },
  {
   "cell_type": "code",
   "execution_count": null,
   "id": "ad0e1095-f293-4963-be45-cd59eee3192d",
   "metadata": {},
   "outputs": [],
   "source": [
    "zred = run_params['zred']\n",
    "\n",
    "model_params = {'agebins':{'init':None}}\n",
    "\n",
    "t_now = Planck13.lookback_time(zred).value\n",
    "model_params['agebins']['init'] = [[0,                      np.log10((t_now-0.1)*1e9)], \n",
    "                                [np.log10((t_now-0.1)*1e9), np.log10( t_now     *1e9)]] # units of log(years)\n",
    "print(model_params['agebins']['init'])\n",
    "# model_params['logsfr_ratios']['init'] = get_lsfr_ratio(mass_pros[pp], z_pros[pp], lsfr_pros[pp])\n",
    "# model = SpecModel(model_params)"
   ]
  },
  {
   "cell_type": "code",
   "execution_count": null,
   "id": "7a8e7485-88b0-4681-81ec-43f837671698",
   "metadata": {},
   "outputs": [],
   "source": [
    "model = getModel(**run_params)\n",
    "model"
   ]
  },
  {
   "cell_type": "code",
   "execution_count": null,
   "id": "45d66faa-6d71-44a8-b441-20de751d81ed",
   "metadata": {},
   "outputs": [],
   "source": [
    "model = getModel(**run_params)\n",
    "model"
   ]
  },
  {
   "cell_type": "code",
   "execution_count": 6,
   "id": "6ebfcd0a-7164-4676-b12f-0bae266fd5ee",
   "metadata": {},
   "outputs": [
    {
     "name": "stdout",
     "output_type": "stream",
     "text": [
      "0.0009908676147460938\n"
     ]
    }
   ],
   "source": [
    "def getModel(mass=None, zred=None, logzsol=None, tage=None, dust2=None, **extras):\n",
    "    \"\"\"Build a prospect.models.SpecModel object\n",
    "\n",
    "    :param mass: (optional, default:None)\n",
    "        If given, produce spectra for this mass. Otherwise the mass will\n",
    "        be 1e8 solar masses.\n",
    "\n",
    "    :param zred: (optional, default: None)\n",
    "        If given, produce spectra and observed frame photometry appropriate\n",
    "        for this redshift. Otherwise the redshift will be zero.\n",
    "\n",
    "    :param logzsol: (optional, default: None)\n",
    "        If given, fix the model metallicity (:math: `log(Z/Z_sun)`) to the given value.\n",
    "        Otherwise the metallicity will be set to -0.5.\n",
    "        \n",
    "    :param tage: (optional, default: None)\n",
    "        If given, produce spectra and model photometry appropriate for\n",
    "        this galactic age. Otherwise the age will be set to 13. Gyrs.\n",
    "\n",
    "    :param dust2: (optional, default: None)\n",
    "        If given, produce spectra that are appropriate for provided dust\n",
    "        attenuation. Otherwise attenuation will be set to 0.6.\n",
    "\n",
    "    :returns model:\n",
    "        An instance of prospect.models.SedModel\n",
    "    \"\"\"\n",
    "    from prospect.models import SpecModel\n",
    "    from prospect.models.templates import TemplateLibrary\n",
    "\n",
    "    model_params = TemplateLibrary['ssp']\n",
    "\n",
    "    # Change `isfree` so that all parameters that will be kept track of are identified \n",
    "    # in the `model` object as `free_params`\n",
    "    model_params['zred']['isfree'] = True\n",
    "\n",
    "    if zred is None:\n",
    "        model_params['zred']['init'] = 0.0\n",
    "    else:\n",
    "        model_params['zred']['init'] = zred\n",
    "\n",
    "\n",
    "    # for wave,mag in zip(wphot,init_phot):\n",
    "    #     jy = mag*3631.0 * u.Jy\n",
    "    #     flux = jy.to(u.erg / u.cm**2 / u.s / u.AA, equivalencies=u.spectral_density(wave*u.AA))\n",
    "    #     flux_density_phot.append(flux.value*10**20)\n",
    "\n",
    "    # flux_density_spec = []\n",
    "    # for wave,mag in zip(wspec,init_spec):\n",
    "    #     jy = mag*3631.0 * u.Jy\n",
    "    #     flux = jy.to(u.erg / u.cm**2 / u.s / u.AA, equivalencies=u.spectral_density(wave*u.AA))\n",
    "    #     flux_density_spec.append(flux.value*10**20)    if mass is not None:\n",
    "        model_params['mass']['init'] = mass\n",
    "\n",
    "    if logzsol is not None:\n",
    "        model_params['logzsol']['init'] = logzsol\n",
    "\n",
    "    if tage is None:\n",
    "        model_params['tage']['init'] = 13.\n",
    "    else:\n",
    "        model_params['tage']['init'] = tage\n",
    "\n",
    "    if dust2 is not None:\n",
    "        model_params['dust2']['init'] = dust2\n",
    "\n",
    "    model = SpecModel(model_params)\n",
    "\n",
    "    return model\n",
    "    \n",
    "start = time.time()\n",
    "test_model = getModel(**run_params)\n",
    "end = time.time()\n",
    "print(end-start)"
   ]
  },
  {
   "cell_type": "code",
   "execution_count": null,
   "id": "c91a9cb5-987a-4994-ae3e-3aa1bfb97d7b",
   "metadata": {},
   "outputs": [],
   "source": []
  },
  {
   "cell_type": "code",
   "execution_count": null,
   "id": "67b654e1-e588-440b-9051-59bdc427bb2a",
   "metadata": {},
   "outputs": [],
   "source": []
  },
  {
   "cell_type": "markdown",
   "id": "a3be1afa-b090-4412-a976-d2c3db0b2fc2",
   "metadata": {},
   "source": [
    "----------"
   ]
  },
  {
   "cell_type": "code",
   "execution_count": null,
   "id": "52547414-241e-48d9-bf5b-071a9c7ac1ed",
   "metadata": {},
   "outputs": [],
   "source": [
    "print(f\"FastStepBasis: {(12.17+12.06)/2}, CSPSpecBasis: {(12.84+12.91)/2}\")\n",
    "print(f\"Difference: {(12.875 - 12.115):.3f}\")"
   ]
  },
  {
   "cell_type": "code",
   "execution_count": null,
   "id": "a7a677ae-9bd6-4fb6-ab69-71a73eab9239",
   "metadata": {},
   "outputs": [],
   "source": []
  }
 ],
 "metadata": {
  "kernelspec": {
   "display_name": "reu",
   "language": "python",
   "name": "reu"
  },
  "language_info": {
   "codemirror_mode": {
    "name": "ipython",
    "version": 3
   },
   "file_extension": ".py",
   "mimetype": "text/x-python",
   "name": "python",
   "nbconvert_exporter": "python",
   "pygments_lexer": "ipython3",
   "version": "3.13.4"
  }
 },
 "nbformat": 4,
 "nbformat_minor": 5
}
