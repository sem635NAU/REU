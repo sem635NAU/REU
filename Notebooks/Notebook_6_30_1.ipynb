{
 "cells": [
  {
   "cell_type": "code",
   "execution_count": 6,
   "id": "91e94b85-f247-40fa-a05d-6fb56d946c0b",
   "metadata": {},
   "outputs": [],
   "source": [
    "# Recreating Zach's prospector generation code but with my parameter space"
   ]
  },
  {
   "cell_type": "code",
   "execution_count": 19,
   "id": "eee87fca-f2e1-434b-8a0c-1912bfe724b2",
   "metadata": {},
   "outputs": [],
   "source": [
    "from matplotlib.pyplot import *\n",
    "from prospectFunctions import *\n",
    "import time\n",
    "from prospect.sources import FastStepBasis\n",
    "from prospect.models.templates import TemplateLibrary#, describe\n",
    "from astropy.cosmology import Planck13\n",
    "from prospect.models import SpecModel\n",
    "from tqdm import tqdm"
   ]
  },
  {
   "cell_type": "code",
   "execution_count": 12,
   "id": "52974c6f-cd58-492f-8ad0-d4748ab2219f",
   "metadata": {},
   "outputs": [],
   "source": [
    "run_params = {}\n",
    "run_params['zred'] = 3.548\n",
    "run_params['mass'] = 1e8\n",
    "run_params['add_duste'] = False\n",
    "run_params['zcontinuous'] = 1\n",
    "\n",
    "grid_ranges = {}\n",
    "grid_ranges['logzsol'] = np.linspace(-1,.5,10)\n",
    "grid_ranges['dust2'] = np.linspace(0,3,10)\n",
    "grid_ranges['tage'] = np.linspace(7,9,10)\n",
    "\n",
    "# a = 1.0 + run_params['zred']\n",
    "\n",
    "# obs = getObs(**run_params)\n",
    "# sps = getSps(**run_params)\n",
    "# wspec, wphot = getWave(obs=obs,sps=sps,**run_params)"
   ]
  },
  {
   "cell_type": "code",
   "execution_count": 13,
   "id": "208774d8-d5dc-4891-8b29-7b289779d9ac",
   "metadata": {},
   "outputs": [
    {
     "name": "stdout",
     "output_type": "stream",
     "text": [
      "Prospector matrix shape: (125, 3)\n"
     ]
    }
   ],
   "source": [
    "# ==================MAKE GRID OF PROSPECTOR GALAXIES======================\n",
    "\n",
    "n_elem = 5 # number of elements for M*, SFR, z, 12+log(O/H). this is the \"resolution\"\n",
    "n_param = 3 # number of parameters we'll vary\n",
    "\n",
    "dust_arr = np.linspace(0, 3, n_elem)\n",
    "logzsol_arr = np.linspace(-1, .5, n_elem)\n",
    "tage_arr = np.linspace(7, 9, n_elem)\n",
    "\n",
    "pros_mat = np.array(np.meshgrid(logzsol_arr, dust_arr, tage_arr)).T\n",
    "pros_arr = pros_mat.reshape(int(np.prod(pros_mat.shape) / n_param), n_param)\n",
    "\n",
    "print('Prospector matrix shape:', pros_arr.shape)"
   ]
  },
  {
   "cell_type": "code",
   "execution_count": 9,
   "id": "94117df4-e36b-4c32-bfec-0cb79f75c18c",
   "metadata": {},
   "outputs": [],
   "source": [
    "# generate empty arrays to fill\n",
    "logzsol_pros, dust_pros, tage_pros = pros_arr[:, 0], pros_arr[:, 1], pros_arr[:, 2]"
   ]
  },
  {
   "cell_type": "code",
   "execution_count": 15,
   "id": "7c2750d8-1824-4afe-bef7-81807964628f",
   "metadata": {},
   "outputs": [
    {
     "name": "stdout",
     "output_type": "stream",
     "text": [
      "0.08\n"
     ]
    }
   ],
   "source": [
    "start = time.time()\n",
    "\n",
    "sps = FastStepBasis(zcontinuous=1)\n",
    "# filters = observate.load_filters(['jwst_f150w', 'jwst_f444w']) # we'll want F150W and F444W\n",
    "# see link below to add additional photometry\n",
    "# https://github.com/bd-j/sedpy/blob/main/sedpy/data/filters/README.md\n",
    "# obs = dict(wave_effective=[1494.4, 4378.7], spectrum=None, unc=None,\n",
    "#            maggies=np.ones(len(filters))*1e-10, maggies_unc=np.ones(len(filters))*1e-10, filters=filters)\n",
    "\n",
    "obs = getObs(**run_params)\n",
    "\n",
    "end = time.time()\n",
    "print(f'{(end-start):.2f}')\n",
    "\n",
    "wspec, wphot = getWave(obs=obs,sps=sps,**run_params)"
   ]
  },
  {
   "cell_type": "code",
   "execution_count": 16,
   "id": "feca9c94-1a10-4298-a287-b2056d1de578",
   "metadata": {},
   "outputs": [],
   "source": [
    "data_grid_params = np.empty((len(grid_ranges['logzsol']),len(grid_ranges['dust2']),len(grid_ranges['tage']),5))\n",
    "data_grid_spec = np.empty((len(grid_ranges['logzsol']),len(grid_ranges['dust2']),len(grid_ranges['tage']),len(wspec)))\n",
    "data_grid_phot = np.empty((len(grid_ranges['logzsol']),len(grid_ranges['dust2']),len(grid_ranges['tage']),len(wphot)))"
   ]
  },
  {
   "cell_type": "code",
   "execution_count": 25,
   "id": "4df8c23f-3da7-4e76-becb-572789532663",
   "metadata": {},
   "outputs": [
    {
     "name": "stdout",
     "output_type": "stream",
     "text": [
      "Generating prospector models\n"
     ]
    },
    {
     "name": "stderr",
     "output_type": "stream",
     "text": [
      "100%|█████████████████████████████████████████████████████████████████████████| 10/10 [00:05<00:00,  1.99it/s]\n"
     ]
    }
   ],
   "source": [
    "# START LOOP\n",
    "print('Generating prospector models')\n",
    "for pp in tqdm(range(data_grid_params.shape[0])):\n",
    "\n",
    "    run_params\n",
    "    \n",
    "    # model = getModel(**run_params)\n",
    "\n",
    "    # try:\n",
    "    #     mass_fracs[pp] = sps.ssp.stellar_mass / sps.ssp.formed_mass\n",
    "    #     # prospector is weird. we give it the total mass, but only get the stellar mass out after the fact.\n",
    "    # except: mass_fracs[pp] = np.nan\n",
    "\n",
    "    # ssfr = 10 ** (lsfr_pros[pp]) / ((10 ** mass_pros[pp]) * mass_fracs[pp])\n",
    "    # model_params['gas_logu']['init'] = get_logu(np.log10(ssfr))\n",
    "    \n",
    "    # model = SpecModel(model_params)\n",
    "\n",
    "    # # current_parameters = \",\".join([f\"{p}={v}\" for p, v in zip(model.free_params, model.theta)])\n",
    "    # spec, phot, mfrac = model.predict(model.theta, obs=obs, sps=sps)\n",
    "\n",
    "    # emlines = (model._eline_lum * u.L_sun / u.M_sun * (10 ** mass_pros[pp] * u.M_sun))\n",
    "    # emlines = emlines / (4 * np.pi * Planck13.luminosity_distance(z_pros[pp]) ** 2)\n",
    "    # emlines = emlines.to(u.erg / u.s / u.cm ** 2).value\n",
    "    # # https://github.com/cconroy20/fsps/blob/master/data/emlines_info.dat\n",
    "    # has[pp], hbs[pp], oiiis[pp], siis0[pp], siis1[pp] = emlines[74], emlines[59], emlines[62], emlines[77], emlines[78]\n",
    "\n",
    "    # f150w_pros[pp], f444w_pros[pp] = phot[0], phot[1] \n",
    "\n",
    "# else: \n",
    "#     has[pp], hbs[pp], oiiis[pp], siis0[pp], siis1[pp] = np.nan, np.nan, np.nan, np.nan, np.nan\n",
    "#     f150w_pros[pp], f444w_pros[pp] = np.nan, np.nan"
   ]
  },
  {
   "cell_type": "code",
   "execution_count": 43,
   "id": "72788f65-e849-4fda-9760-d056f843145b",
   "metadata": {},
   "outputs": [
    {
     "name": "stdout",
     "output_type": "stream",
     "text": [
      "dict_keys(['zred', 'mass', 'logzsol', 'dust2', 'sfh', 'tage', 'imf_type', 'dust_type'])\n",
      "dict_keys(['zred', 'mass', 'logzsol', 'dust2', 'sfh', 'tage', 'imf_type', 'dust_type', 'tau'])\n"
     ]
    }
   ],
   "source": [
    "# TemplateLibrary.show_contents()\n",
    "# Probably will use TemplateLibrary['ssp']\n",
    "\n",
    "# TemplateLibrary['ssp']: Basic set of (free) parameters for a delta function SFH.\n",
    "\n",
    "# TemplateLibrary['parametric_sfh']: A \"delay-tau\" star formation history (SFH) is a model that describes how \n",
    "# the rate of star formation in a galaxy changes over time, specifically with a delayed exponential decline.\n",
    "\n",
    "# model_params['mass']['isfree'] = False\n",
    "# model_params['logzsol']['isfree'] = False\n",
    "# model_params['dust2']['isfree'] = False\n",
    "# model_params['tage']['isfree'] = False\n",
    "\n",
    "print(TemplateLibrary['ssp'].keys())"
   ]
  },
  {
   "cell_type": "code",
   "execution_count": 3,
   "id": "7a8e7485-88b0-4681-81ec-43f837671698",
   "metadata": {},
   "outputs": [
    {
     "data": {
      "text/plain": [
       ":::::::\n",
       "<class 'prospect.models.sedmodel.SedModel'>\n",
       "\n",
       "Free Parameters: (name: prior) \n",
       "-----------\n",
       "  zred: <class 'prospect.models.priors.TopHat'>(mini=0.0,maxi=4.0)\n",
       "  mass: <class 'prospect.models.priors.LogUniform'>(mini=100000000.0,maxi=1000000000000.0)\n",
       "  logzsol: <class 'prospect.models.priors.TopHat'>(mini=-2,maxi=0.19)\n",
       "  dust2: <class 'prospect.models.priors.TopHat'>(mini=0.0,maxi=2.0)\n",
       "  tage: <class 'prospect.models.priors.TopHat'>(mini=0.001,maxi=13.8)\n",
       "\n",
       "Fixed Parameters: (name: value [, depends_on]) \n",
       "-----------\n",
       "  sfh: [4] \n",
       "  imf_type: [2] \n",
       "  dust_type: [0] \n",
       "  tau: [1] \n",
       "  lumdist: [10.] "
      ]
     },
     "execution_count": 3,
     "metadata": {},
     "output_type": "execute_result"
    }
   ],
   "source": [
    "model = getModel(**run_params)\n",
    "model"
   ]
  },
  {
   "cell_type": "code",
   "execution_count": 5,
   "id": "45d66faa-6d71-44a8-b441-20de751d81ed",
   "metadata": {},
   "outputs": [
    {
     "data": {
      "text/plain": [
       ":::::::\n",
       "<class 'prospect.models.sedmodel.SpecModel'>\n",
       "\n",
       "Free Parameters: (name: prior) \n",
       "-----------\n",
       "  zred: <class 'prospect.models.priors.TopHat'>(mini=0.0,maxi=4.0)\n",
       "  mass: <class 'prospect.models.priors.LogUniform'>(mini=100000000.0,maxi=1000000000000.0)\n",
       "  logzsol: <class 'prospect.models.priors.TopHat'>(mini=-2,maxi=0.19)\n",
       "  dust2: <class 'prospect.models.priors.TopHat'>(mini=0.0,maxi=2.0)\n",
       "  tage: <class 'prospect.models.priors.TopHat'>(mini=0.001,maxi=13.8)\n",
       "\n",
       "Fixed Parameters: (name: value [, depends_on]) \n",
       "-----------\n",
       "  sfh: [0] \n",
       "  imf_type: [2] \n",
       "  dust_type: [0] "
      ]
     },
     "execution_count": 5,
     "metadata": {},
     "output_type": "execute_result"
    }
   ],
   "source": [
    "model = getModel(**run_params)\n",
    "model"
   ]
  },
  {
   "cell_type": "code",
   "execution_count": 4,
   "id": "6ebfcd0a-7164-4676-b12f-0bae266fd5ee",
   "metadata": {},
   "outputs": [],
   "source": [
    "def getModel(mass=None, zred=None, logzsol=None, tage=None, dust2=None, **extras):\n",
    "    \"\"\"Build a prospect.models.SpecModel object\n",
    "\n",
    "    :param mass: (optional, default:None)\n",
    "        If given, produce spectra for this mass. Otherwise the mass will\n",
    "        be 1e8 solar masses.\n",
    "\n",
    "    :param zred: (optional, default: None)\n",
    "        If given, produce spectra and observed frame photometry appropriate\n",
    "        for this redshift. Otherwise the redshift will be zero.\n",
    "\n",
    "    :param logzsol: (optional, default: None)\n",
    "        If given, fix the model metallicity (:math: `log(Z/Z_sun)`) to the given value.\n",
    "        Otherwise the metallicity will be set to -0.5.\n",
    "        \n",
    "    :param tage: (optional, default: None)\n",
    "        If given, produce spectra and model photometry appropriate for\n",
    "        this galactic age. Otherwise the age will be set to 13. Gyrs.\n",
    "\n",
    "    :param dust2: (optional, default: None)\n",
    "        If given, produce spectra that are appropriate for provided dust\n",
    "        attenuation. Otherwise attenuation will be set to 0.6.\n",
    "\n",
    "    :returns model:\n",
    "        An instance of prospect.models.SedModel\n",
    "    \"\"\"\n",
    "    from prospect.models.sedmodel import SpecModel\n",
    "    from prospect.models.templates import TemplateLibrary\n",
    "\n",
    "    model_params = TemplateLibrary['ssp']\n",
    "\n",
    "    # Change `isfree` so that all parameters that will be kept track of are identified \n",
    "    # in the `model` object as `free_params`\n",
    "    model_params['zred']['isfree'] = True\n",
    "\n",
    "    if zred is None:\n",
    "        model_params['zred']['init'] = 0.0\n",
    "    else:\n",
    "        model_params['zred']['init'] = zred\n",
    "\n",
    "    if mass is not None:\n",
    "        model_params['mass']['init'] = mass\n",
    "\n",
    "    if logzsol is not None:\n",
    "        model_params['logzsol']['init'] = logzsol\n",
    "\n",
    "    if tage is None:\n",
    "        model_params['tage']['init'] = 13.\n",
    "    else:\n",
    "        model_params['tage']['init'] = tage\n",
    "\n",
    "    if dust2 is not None:\n",
    "        model_params['dust2']['init'] = dust2\n",
    "\n",
    "    model = SpecModel(model_params)\n",
    "\n",
    "    return model"
   ]
  },
  {
   "cell_type": "code",
   "execution_count": null,
   "id": "c91a9cb5-987a-4994-ae3e-3aa1bfb97d7b",
   "metadata": {},
   "outputs": [],
   "source": []
  },
  {
   "cell_type": "code",
   "execution_count": null,
   "id": "67b654e1-e588-440b-9051-59bdc427bb2a",
   "metadata": {},
   "outputs": [],
   "source": []
  },
  {
   "cell_type": "markdown",
   "id": "a3be1afa-b090-4412-a976-d2c3db0b2fc2",
   "metadata": {},
   "source": [
    "----------"
   ]
  },
  {
   "cell_type": "code",
   "execution_count": 9,
   "id": "52547414-241e-48d9-bf5b-071a9c7ac1ed",
   "metadata": {},
   "outputs": [
    {
     "name": "stdout",
     "output_type": "stream",
     "text": [
      "FastStepBasis: 12.115, CSPSpecBasis: 12.875\n",
      "Difference: 0.760\n"
     ]
    }
   ],
   "source": [
    "print(f\"FastStepBasis: {(12.17+12.06)/2}, CSPSpecBasis: {(12.84+12.91)/2}\")\n",
    "print(f\"Difference: {(12.875 - 12.115):.3f}\")"
   ]
  },
  {
   "cell_type": "code",
   "execution_count": null,
   "id": "fa207c16-85fe-4cd2-af2d-50a80dc44afa",
   "metadata": {},
   "outputs": [],
   "source": [
    "def getModel(mass=None, zred=None, logzsol=None, tage=None, dust2=None, ldist=10.0, **extras):\n",
    "    \"\"\"Build a prospect.models.SedModel object\n",
    "\n",
    "    :param mass: (optional, default:None)\n",
    "        If given, produce spectra for this mass. Otherwise the mass will\n",
    "        be 1e8 solar masses.\n",
    "\n",
    "    :param zred: (optional, default: None)\n",
    "        If given, produce spectra and observed frame photometry appropriate\n",
    "        for this redshift. Otherwise the redshift will be zero.\n",
    "\n",
    "    :param logzsol: (optional, default: None)\n",
    "        If given, fix the model metallicity (:math: `log(Z/Z_sun)`) to the given value.\n",
    "        Otherwise the metallicity will be set to -0.5.\n",
    "        \n",
    "    :param tage: (optional, default: None)\n",
    "        If given, produce spectra and model photometry appropriate for\n",
    "        this galactic age. Otherwise the age will be set to 13. Gyrs.\n",
    "\n",
    "    :param dust2: (optional, default: None)\n",
    "        If given, produce spectra that are appropriate for provided dust\n",
    "        attenuation. Otherwise attenuation will be set to 0.6.\n",
    "\n",
    "    :param ldist: (optional, default: 10)\n",
    "        The luminosity distance (in Mpc) for the model. Spectra and observed\n",
    "        frame (apparent) photometry will be appropriate for this luminosity distance.\n",
    "\n",
    "    :returns model:\n",
    "        An instance of prospect.models.SedModel\n",
    "    \"\"\"\n",
    "    from prospect.models.sedmodel import SedModel\n",
    "    from prospect.models.templates import TemplateLibrary\n",
    "\n",
    "    model_params = TemplateLibrary['parametric_sfh']\n",
    "\n",
    "    model_params['lumdist'] = {'N':1, 'isfree':False, 'init':ldist, 'units':'Mpc'}\n",
    "\n",
    "    # Change `isfree` so that all parameters that will be kept track of are identified \n",
    "    # in the `model` object as `free_params`\n",
    "    model_params['zred']['isfree'] = True\n",
    "    model_params['tau']['isfree'] = False\n",
    "\n",
    "    if zred is None:\n",
    "        model_params['zred']['init'] = 0.0\n",
    "    else:\n",
    "        model_params['zred']['init'] = zred\n",
    "\n",
    "    if mass is not None:\n",
    "        model_params['mass']['init'] = mass\n",
    "\n",
    "    if logzsol is not None:\n",
    "        model_params['logzsol']['init'] = logzsol\n",
    "\n",
    "    if tage is None:\n",
    "        model_params['tage']['init'] = 13.\n",
    "    else:\n",
    "        model_params['tage']['init'] = tage\n",
    "\n",
    "    if dust2 is not None:\n",
    "        model_params['dust2']['init'] = dust2\n",
    "\n",
    "    model = SedModel(model_params)\n",
    "\n",
    "    return model"
   ]
  }
 ],
 "metadata": {
  "kernelspec": {
   "display_name": "reu",
   "language": "python",
   "name": "reu"
  },
  "language_info": {
   "codemirror_mode": {
    "name": "ipython",
    "version": 3
   },
   "file_extension": ".py",
   "mimetype": "text/x-python",
   "name": "python",
   "nbconvert_exporter": "python",
   "pygments_lexer": "ipython3",
   "version": "3.13.4"
  }
 },
 "nbformat": 4,
 "nbformat_minor": 5
}
