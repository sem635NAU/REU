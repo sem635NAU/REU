{
 "cells": [
  {
   "cell_type": "code",
   "execution_count": 2,
   "id": "0a89eaec-48f9-4760-a3d5-80ce32ccf1cf",
   "metadata": {},
   "outputs": [],
   "source": [
    "from astropy.cosmology import Planck13\n",
    "from prospectFunctions import *\n",
    "import numpy as np\n",
    "import itertools"
   ]
  },
  {
   "cell_type": "code",
   "execution_count": 3,
   "id": "18a47063-3863-44e4-a565-0abc0e5776dc",
   "metadata": {},
   "outputs": [],
   "source": [
    "data_grid_params = np.load('params.npy')\n",
    "data_grid_spec = np.load('specs.npy')\n",
    "data_grid_phot = np.load('phots.npy')\n",
    "\n",
    "grid_ranges = {}\n",
    "grid_ranges['logzsol'] = np.linspace(-1,.5,10)\n",
    "grid_ranges['dust2'] = np.linspace(0,3,10)\n",
    "grid_ranges['tage'] = np.linspace(7,9,10)\n",
    "\n",
    "logzs = grid_ranges['logzsol']\n",
    "dusts = grid_ranges['dust2']\n",
    "tages = grid_ranges['tage']\n",
    "\n",
    "run_params = {}\n",
    "run_params['zred'] = 3.548\n",
    "run_params['mass'] = 1e8\n",
    "run_params['add_duste'] = False\n",
    "run_params['zcontinuous'] = 1\n",
    "\n",
    "a = 1.0 + run_params['zred']\n",
    "\n",
    "obs = getObs(**run_params)\n",
    "sps = getSps(**run_params)\n",
    "wspec, wphot = getWave(obs=obs,sps=sps,**run_params)"
   ]
  },
  {
   "cell_type": "code",
   "execution_count": 4,
   "id": "2ca4b947-3a58-467a-abbf-ee803735136d",
   "metadata": {},
   "outputs": [],
   "source": [
    "# VERSION OF CALCULATING BALMER BREAK ANNA USED\n",
    "\n",
    "bounds = getBreakBounds(wspec, **run_params)\n",
    "blue_lower, blue_upper = bounds['blue'][0], bounds['blue'][1]\n",
    "red_lower, red_upper = bounds['red'][0], bounds['red'][1]\n",
    "\n",
    "data_grid_break = np.empty((len(logzs),len(dusts),len(tages),1))\n",
    "\n",
    "for i_logz,i_dust,i_tage in itertools.product(range(len(logzs)),range(len(dusts)),range(len(tages))):\n",
    "    lower = data_grid_spec[i_logz,i_dust,i_tage,blue_lower:blue_upper].mean()\n",
    "    upper = data_grid_spec[i_logz,i_dust,i_tage,red_lower:red_upper].mean()\n",
    "\n",
    "    ratio = upper/lower\n",
    "\n",
    "    data_grid_break[i_logz,i_dust,i_tage,:] = ratio"
   ]
  },
  {
   "cell_type": "code",
   "execution_count": 6,
   "id": "06dcc431-f6ca-426b-8cdf-65cb91a377d6",
   "metadata": {},
   "outputs": [],
   "source": [
    "# VERSION OF CALCULATING BALMER BREAK D4000 USED\n",
    "\n",
    "bounds = getBreakBoundsD4000(wspec, **run_params)\n",
    "blue_lower, blue_upper = bounds['blue'][0], bounds['blue'][1]\n",
    "red_lower, red_upper = bounds['red'][0], bounds['red'][1]\n",
    "\n",
    "data_grid_break_D4000 = np.empty((len(logzs),len(dusts),len(tages),1))\n",
    "\n",
    "for i_logz,i_dust,i_tage in itertools.product(range(len(logzs)),range(len(dusts)),range(len(tages))):\n",
    "    lower = data_grid_spec[i_logz,i_dust,i_tage,blue_lower:blue_upper].mean()\n",
    "    upper = data_grid_spec[i_logz,i_dust,i_tage,red_lower:red_upper].mean()\n",
    "\n",
    "    ratio = upper/lower\n",
    "\n",
    "    data_grid_break_D4000[i_logz,i_dust,i_tage,:] = ratio"
   ]
  },
  {
   "cell_type": "markdown",
   "id": "e1efe0e8-e01f-424e-8671-6d0b4669d6ee",
   "metadata": {},
   "source": [
    "# Plotting the cross-sections of parameter space for break strength\n",
    "\n",
    "Using the blue and red contiuum's for D4000 as in Table 1 of Balogh, 1999:\n",
    "\n",
    "* blue continuum = [3850-3950]\n",
    "* red continuum = [4000-4100]"
   ]
  },
  {
   "cell_type": "code",
   "execution_count": 8,
   "id": "5a239191-d3cb-4be7-8df0-2e42f2a0e3e0",
   "metadata": {},
   "outputs": [],
   "source": [
    "# Want to plot the 1D spectra for these ^^\n",
    "\n",
    "# order of parameters [zred,mass,logz,dust,tage]"
   ]
  },
  {
   "cell_type": "markdown",
   "id": "d9ee64c7-1e9d-466c-a21a-b32e62bf7b2d",
   "metadata": {},
   "source": [
    "# Plotting images to compare strength of the break for two methods\n",
    "\n",
    "-----------------"
   ]
  },
  {
   "cell_type": "code",
   "execution_count": null,
   "id": "dd63344c-f56f-4c40-9662-5b302ebb9c85",
   "metadata": {},
   "outputs": [],
   "source": []
  }
 ],
 "metadata": {
  "kernelspec": {
   "display_name": "reu",
   "language": "python",
   "name": "reu"
  },
  "language_info": {
   "codemirror_mode": {
    "name": "ipython",
    "version": 3
   },
   "file_extension": ".py",
   "mimetype": "text/x-python",
   "name": "python",
   "nbconvert_exporter": "python",
   "pygments_lexer": "ipython3",
   "version": "3.13.4"
  }
 },
 "nbformat": 4,
 "nbformat_minor": 5
}
