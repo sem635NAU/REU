{
 "cells": [
  {
   "cell_type": "code",
   "execution_count": 3,
   "id": "5ea6e258-2eca-4b7b-8b4d-c86e571eca01",
   "metadata": {},
   "outputs": [],
   "source": [
    "# Trying to compile emcee demos to understand how to create one of my own"
   ]
  },
  {
   "cell_type": "code",
   "execution_count": 2,
   "id": "240cbf5d-f0d3-4d6d-b4e0-7d42f1c9ea37",
   "metadata": {},
   "outputs": [],
   "source": [
    "import numpy as np\n",
    "from matplotlib.pyplot import *"
   ]
  },
  {
   "cell_type": "code",
   "execution_count": null,
   "id": "837accac-33f1-4252-a7ff-514b0bcceae3",
   "metadata": {},
   "outputs": [],
   "source": [
    "# Start with a model function, that takes in the free parameters as an array (theta) and returns the calculated model given the parameters\n",
    "def model(theta,age=age):\n",
    "    a1,a2,a3,p1,p2,p3,T0 = theta\n",
    "    return a1*np.sin(2*np.pi*age/p1) + a2*np.sin(2*np.pi*age/p2) + a3*np.sin(2*np.pi*age/p3) + T0"
   ]
  },
  {
   "cell_type": "code",
   "execution_count": null,
   "id": "53655147-f58c-416e-b646-9d448e4b2d32",
   "metadata": {},
   "outputs": [],
   "source": [
    "# Then calculate the likelihood of this model based off of the model that you just made\n",
    "# Theta is all your free parameters, y is the true value of your model\n",
    "def lnlike(theta, x, y, yerr):\n",
    "    return -0.5 * np.sum(((y - model(theta, x))/yerr) ** 2)"
   ]
  },
  {
   "cell_type": "code",
   "execution_count": null,
   "id": "83d0c3f7-f68b-4eeb-b65e-c5906e3052b4",
   "metadata": {},
   "outputs": [],
   "source": []
  },
  {
   "cell_type": "code",
   "execution_count": null,
   "id": "6700159a-e4f5-46f3-a131-50dc7aa29bc9",
   "metadata": {},
   "outputs": [],
   "source": [
    "def log_likelihood(theta, x, y, yerr):\n",
    "    m, b, log_f = theta\n",
    "    model = m * x + b\n",
    "    sigma2 = yerr**2 + model**2 * np.exp(2 * log_f)\n",
    "    return -0.5 * np.sum((y - model) ** 2 / sigma2 + np.log(sigma2))"
   ]
  },
  {
   "cell_type": "code",
   "execution_count": null,
   "id": "521cd2a0-f7f8-4163-8689-c6a4b6cb91b2",
   "metadata": {},
   "outputs": [],
   "source": []
  },
  {
   "cell_type": "code",
   "execution_count": null,
   "id": "90b6b8e5-6a3b-4908-8a7e-7834592d57ca",
   "metadata": {},
   "outputs": [],
   "source": [
    "# Now set a function that outputs True/False and verifies that all priors are correctly accounted for\n",
    "def lnprior(theta):\n",
    "    a1, a2, a3, p1, p2, p3, T0 = theta\n",
    "    if 0.0 < a1 < 5.0 and 0.0 < a2 < 5.0 and 0.0 < a3 < 5.0 and 10000. < p1 < 200000 and 10000. < p2 < 200000 and 10000. < p3 < 200000 and -10.0 < T0 < 0:\n",
    "        return 0.0\n",
    "    return -np.inf"
   ]
  },
  {
   "cell_type": "code",
   "execution_count": null,
   "id": "e97a2d38-5089-4324-be78-0aeab9641b04",
   "metadata": {},
   "outputs": [],
   "source": [
    "# This step first checks the priors, and if they are all satisfied, then lp=0 and it outputs the loglikelihood of the model\n",
    "def lnprob(theta, x, y, yerr):\n",
    "    lp = lnprior(theta)\n",
    "    if not np.isfinite(lp):\n",
    "        return -np.inf\n",
    "    return lp + lnlike(theta, x, y, yerr)"
   ]
  },
  {
   "cell_type": "code",
   "execution_count": null,
   "id": "e535e57c-fb7d-4355-959c-dd46cc1fb08e",
   "metadata": {},
   "outputs": [],
   "source": []
  },
  {
   "cell_type": "code",
   "execution_count": null,
   "id": "67ffde9c-1f01-4d70-97bb-09357b0d2d2a",
   "metadata": {},
   "outputs": [],
   "source": [
    "import emcee\n",
    "\n",
    "pos = soln.x + 1e-4 * np.random.randn(32, 3)\n",
    "nwalkers, ndim = pos.shape\n",
    "\n",
    "sampler = emcee.EnsembleSampler(\n",
    "    nwalkers, ndim, log_probability, args=(x, y, yerr)\n",
    ")\n",
    "sampler.run_mcmc(pos, 5000, progress=True);"
   ]
  },
  {
   "cell_type": "code",
   "execution_count": null,
   "id": "dfb38ed7-0bd7-4953-bd1c-21fcc5a2baf6",
   "metadata": {},
   "outputs": [],
   "source": []
  },
  {
   "cell_type": "code",
   "execution_count": null,
   "id": "4cac97ef-2c71-494d-82af-cbe92eb34ea3",
   "metadata": {},
   "outputs": [],
   "source": [
    "Terr = 0.05*np.mean(T)\n",
    "data = (age, T,Terr)\n",
    "nwalkers = 128\n",
    "niter = 500\n",
    "initial = np.array([1.0, 1.0, 1.0, 26000., 41000.,100000.,-4.5])\n",
    "ndim = len(initial)\n",
    "p0 = [np.array(initial) + 1e-7 * np.random.randn(ndim) for i in xrange(nwalkers)]\n",
    "\n",
    "\n",
    "def main(p0,nwalkers,niter,ndim,lnprob,data):\n",
    "    sampler = emcee.EnsembleSampler(nwalkers, ndim, lnprob, args=data)\n",
    "\n",
    "    print(\"Running burn-in...\")\n",
    "    p0, _, _ = sampler.run_mcmc(p0, 100)\n",
    "    sampler.reset()\n",
    "\n",
    "    print(\"Running production...\")\n",
    "    pos, prob, state = sampler.run_mcmc(p0, niter)\n",
    "\n",
    "    return sampler, pos, prob, state\n",
    "\n",
    "\n",
    "sampler, pos, prob, state = main(p0,nwalkers,niter,ndim,lnprob,data)"
   ]
  }
 ],
 "metadata": {
  "kernelspec": {
   "display_name": "reu",
   "language": "python",
   "name": "reu"
  },
  "language_info": {
   "codemirror_mode": {
    "name": "ipython",
    "version": 3
   },
   "file_extension": ".py",
   "mimetype": "text/x-python",
   "name": "python",
   "nbconvert_exporter": "python",
   "pygments_lexer": "ipython3",
   "version": "3.13.4"
  }
 },
 "nbformat": 4,
 "nbformat_minor": 5
}
