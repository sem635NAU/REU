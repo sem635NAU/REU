{
 "cells": [
  {
   "cell_type": "code",
   "execution_count": 1,
   "id": "39b2138d-649c-4d5a-977a-531ec6d8cede",
   "metadata": {},
   "outputs": [],
   "source": [
    "import numpy as np\n",
    "from matplotlib.pyplot import *\n",
    "from tqdm import tqdm\n",
    "from astropy.cosmology import Planck13\n",
    "\n",
    "import sys\n",
    "sys.path.append('/home/samantha/Documents/REU/scripts/') # Use the absolute path to the directory\n",
    "%pwd\n",
    "from prospectFunctionsSFH import *\n",
    "\n",
    "from prospect.plotting.sfh import parametric_sfr\n",
    "from prospect.models.templates import TemplateLibrary\n",
    "from prospect.models.transforms import tburst_from_fage"
   ]
  },
  {
   "cell_type": "code",
   "execution_count": 2,
   "id": "2f8bc318-a70e-46f2-a555-23e6f1c6c824",
   "metadata": {},
   "outputs": [
    {
     "data": {
      "text/plain": [
       "['/home/samantha/anaconda3/envs/reu/lib/python313.zip',\n",
       " '/home/samantha/anaconda3/envs/reu/lib/python3.13',\n",
       " '/home/samantha/anaconda3/envs/reu/lib/python3.13/lib-dynload',\n",
       " '',\n",
       " '/home/samantha/anaconda3/envs/reu/lib/python3.13/site-packages',\n",
       " '/home/samantha/Documents/REU/scripts/',\n",
       " '/home/samantha/anaconda3/envs/reu/lib/python3.13/site-packages/setuptools/_vendor']"
      ]
     },
     "execution_count": 2,
     "metadata": {},
     "output_type": "execute_result"
    }
   ],
   "source": [
    "sys.path"
   ]
  },
  {
   "cell_type": "code",
   "execution_count": 23,
   "id": "79c14f23-f1c9-4d58-b470-2a3f95eb971c",
   "metadata": {},
   "outputs": [],
   "source": [
    "keys = ['zred','mass','logzsol','dust2',\n",
    "        'sfh','imf_type','tau','tage',\n",
    "        'add_burst','fburst','fage_burst','tburst',\n",
    "        'const','add_trunc','sf_start','sf_trunc']\n",
    "values = [False for x in range(len(keys))]\n",
    "values\n",
    "all_params = dict(zip(keys, values))\n",
    "\n",
    "all_params['tau'] = True\n",
    "all_params['tage'] = True\n",
    "all_params['fburst'] = True\n",
    "all_params['fage_burst'] = True\n",
    "all_params['const'] = True\n",
    "all_params['sf_start'] = True\n",
    "all_params['sf_trunc'] = True"
   ]
  },
  {
   "cell_type": "code",
   "execution_count": 33,
   "id": "2146a99f-e56c-4258-9417-e82d964c2ed3",
   "metadata": {},
   "outputs": [
    {
     "data": {
      "text/plain": [
       "{'is_free': False, 'init': 0, 'prior': [0, 0]}"
      ]
     },
     "execution_count": 33,
     "metadata": {},
     "output_type": "execute_result"
    }
   ],
   "source": [
    "param_ranges = {'zred': {'is_free':False, 'init':0, 'prior':[0,0]},\n",
    "                'mass': {'is_free':False, 'init':0, 'prior':[0,0]},\n",
    "                'logzsol': {'is_free':False, 'init':0, 'prior':[0,0]},\n",
    "                'dust2': {'is_free':False, 'init':0, 'prior':[0,0]},\n",
    "                'sfh': {'is_free':False, 'init':0, 'prior':[0,0]},\n",
    "                'imf_type': {'is_free':False, 'init':0, 'prior':[0,0]},\n",
    "                'tau': {'is_free':False, 'init':0, 'prior':[0,0]},\n",
    "                'tage': {'is_free':False, 'init':0, 'prior':[0,0]},\n",
    "                'add_burst': {'is_free':False, 'init':0, 'prior':[0,0]},\n",
    "                'fburst': {'is_free':False, 'init':0, 'prior':[0,0]},\n",
    "                'fage_burst': {'is_free':False, 'init':0, 'prior':[0,0]},\n",
    "                'tburst': {'is_free':False, 'init':0, 'prior':[0,0]},\n",
    "                'const': {'is_free':False, 'init':0, 'prior':[0,0]},\n",
    "                'add_trunc': {'is_free':False, 'init':0, 'prior':[0,0]},\n",
    "                'sf_start': {'is_free':False, 'init':0, 'prior':[0,0]},\n",
    "                'sf_trunc': {'is_free':False, 'init':0, 'prior':[0,0]}\n",
    "               }"
   ]
  },
  {
   "cell_type": "code",
   "execution_count": null,
   "id": "980353a6-3931-4042-b7e8-4af0b0e79c56",
   "metadata": {},
   "outputs": [],
   "source": [
    "def getParams(all_params):\n",
    "    \n",
    "    # Fixed parameters\n",
    "    run_params = {}\n",
    "    run_params['zred'] = 3.548 # Redshift of the cliff\n",
    "    run_params['mass'] = 1e8\n",
    "    run_params['logzsol'] = 0.0 # Solar metallicity\n",
    "    run_params['dust2'] = 0.0 # No dust in the galaxy\n",
    "    \n",
    "    run_params['sfh'] = 1 # tau model plus a constant component and a burst (4 for delay tau, unecessary for our purpose)\n",
    "    run_params['imf_type'] = 2 # (Kroupa 2001)\n",
    "\n",
    "    param_priors = {'zred': {'is_free':False, 'prior':[0,0]},\n",
    "                    'mass': {'is_free':False, 'prior':[0,0]},\n",
    "                    'logzsol': {'is_free':False, 'prior':[0,0]},\n",
    "                    'dust2': {'is_free':False, 'prior':[0,0]},\n",
    "                    'sfh': {'is_free':False, 'prior':[0,0]},\n",
    "                    'imf_type': {'is_free':False, 'prior':[0,0]},\n",
    "                    'tau': {'is_free':False, 'prior':[0,0]},\n",
    "                    'tage': {'is_free':False, 'prior':[0,0]},\n",
    "                    'add_burst': {'is_free':False, 'prior':[0,0]},\n",
    "                    'fburst': {'is_free':False, 'prior':[0,0]},\n",
    "                    'fage_burst': {'is_free':False, 'prior':[0,0]},\n",
    "                    'tburst': {'is_free':False, 'prior':[0,0]},\n",
    "                    'const': {'is_free':False, 'prior':[0,0]},\n",
    "                    'add_trunc': {'is_free':False, 'prior':[0,0]},\n",
    "                    'sf_start': {'is_free':False, 'prior':[0,0]},\n",
    "                    'sf_trunc': {'is_free':False, 'prior':[0,0]}\n",
    "                   }\n",
    "\n",
    "    N = 2\n",
    "    taus = [1e-2, 1]\n",
    "    tages = np.logspace(-1,np.log10(2),N)\n",
    "    fbursts = [0.001, .01, .6]\n",
    "    fages = np.linspace(0,.999,N)\n",
    "    # consts = np.linspace()\n",
    "    # starts = np.linspace()\n",
    "    # truncs = np.linspace()\n",
    "    \n",
    "    run_params['tau'] = taus[0] # The e-folding time for the SFH, range is 1e-1 to 1e2\n",
    "    run_params['tage'] = tages[0] # The age of the host (galaxy) in Gyrs\n",
    "    \n",
    "    run_params['add_burst'] = True\n",
    "    run_params['fburst'] = fbursts[0] # The fraction of mass formed in an instantaneous burst of star formation\n",
    "    run_params['fage_burst'] = fages[0] # The fraction of the host age at which the burst occurred.\n",
    "    run_params['tburst'] = tburst_from_fage(**run_params) # The age of the universe (age of the host) when the burst occurred\n",
    "    # run_params['const'] =  0.8 - run_params['fburst']\n",
    "    \n",
    "    run_params['add_trunc'] = False\n",
    "    # run_params['sf_start'] = starts[0] # Start time of the SFH in Gyrs\n",
    "    # run_params['sf_trunc'] = truncs[0] # Trunctation time of the SFH in Gyrs. 0.0 => no trunctation\n",
    "\n",
    "    return"
   ]
  },
  {
   "cell_type": "code",
   "execution_count": 26,
   "id": "9bad4b0b-0891-45a4-ab1e-3bac9c328e79",
   "metadata": {},
   "outputs": [
    {
     "data": {
      "text/plain": [
       "{'zred': False,\n",
       " 'mass': False,\n",
       " 'logzsol': False,\n",
       " 'dust2': False,\n",
       " 'sfh': False,\n",
       " 'imf_type': False,\n",
       " 'tau': True,\n",
       " 'tage': True,\n",
       " 'add_burst': False,\n",
       " 'fburst': True,\n",
       " 'fage_burst': True,\n",
       " 'tburst': False,\n",
       " 'const': True,\n",
       " 'add_trunc': False,\n",
       " 'sf_start': True,\n",
       " 'sf_trunc': True}"
      ]
     },
     "execution_count": 26,
     "metadata": {},
     "output_type": "execute_result"
    }
   ],
   "source": [
    "all_params"
   ]
  },
  {
   "cell_type": "code",
   "execution_count": 12,
   "id": "b3269e47-edb3-4a17-ab2c-21b361cf2de4",
   "metadata": {},
   "outputs": [],
   "source": [
    "# FIX THESE PARAMETERS\n",
    "run_params = {}\n",
    "run_params['zred'] = 3.548 # Redshift of the cliff\n",
    "run_params['mass'] = 1e8\n",
    "run_params['logzsol'] = 0.0 # Solar metallicity\n",
    "run_params['dust2'] = 0.0 # No dust in the galaxy\n",
    "\n",
    "run_params['sfh'] = 1 # tau model plus a constant component and a burst (4 for delay tau, unecessary for our purpose)\n",
    "run_params['imf_type'] = 2 # (Kroupa 2001)\n",
    "\n",
    "#######################\n",
    "# SET THE LIMITS OF THE PRIORS\n",
    "N = 2\n",
    "taus = [1e-2, 1]\n",
    "tages = np.logspace(-1,np.log10(2),N)\n",
    "fbursts = [0.001, .01, .6]\n",
    "fages = np.linspace(0,.999,N)\n",
    "# consts = np.linspace()\n",
    "# starts = np.linspace()\n",
    "# truncs = np.linspace()\n",
    "\n",
    "run_params['tau'] = taus[0] # The e-folding time for the SFH, range is 1e-1 to 1e2\n",
    "run_params['tage'] = tages[0] # The age of the host (galaxy) in Gyrs\n",
    "\n",
    "run_params['add_burst'] = True\n",
    "run_params['fburst'] = fbursts[0] # The fraction of mass formed in an instantaneous burst of star formation\n",
    "run_params['fage_burst'] = fages[0] # The fraction of the host age at which the burst occurred.\n",
    "run_params['tburst'] = tburst_from_fage(**run_params) # The age of the universe (age of the host) when the burst occurred\n",
    "# run_params['const'] =  0.8 - run_params['fburst']\n",
    "\n",
    "run_params['add_trunc'] = False\n",
    "# run_params['sf_start'] = starts[0] # Start time of the SFH in Gyrs\n",
    "# run_params['sf_trunc'] = truncs[0] # Trunctation time of the SFH in Gyrs. 0.0 => no trunctation\n",
    "\n",
    "obs = getObs()\n",
    "sps = getSps(**run_params)\n",
    "\n",
    "wspec = sps.wavelengths"
   ]
  },
  {
   "cell_type": "code",
   "execution_count": 7,
   "id": "c51de0ed-314c-4b2a-a328-72c348c77418",
   "metadata": {},
   "outputs": [
    {
     "data": {
      "text/plain": [
       "{'zred': 3.548,\n",
       " 'mass': 100000000.0,\n",
       " 'logzsol': 0.0,\n",
       " 'dust2': 0.0,\n",
       " 'sfh': 1,\n",
       " 'imf_type': 2,\n",
       " 'tau': 0.01,\n",
       " 'tage': np.float64(0.1),\n",
       " 'add_burst': True,\n",
       " 'fburst': 0.001,\n",
       " 'fage_burst': np.float64(0.0),\n",
       " 'tburst': np.float64(0.0),\n",
       " 'add_trunc': False}"
      ]
     },
     "execution_count": 7,
     "metadata": {},
     "output_type": "execute_result"
    }
   ],
   "source": [
    "run_params"
   ]
  },
  {
   "cell_type": "code",
   "execution_count": 8,
   "id": "8feb6183-c2b3-4eeb-a4a6-46054491d5ee",
   "metadata": {},
   "outputs": [
    {
     "data": {
      "text/plain": [
       ":::::::\n",
       "<class 'prospect.models.sedmodel.SpecModel'>\n",
       "\n",
       "Free Parameters: (name: prior) \n",
       "-----------\n",
       "  mass: <class 'prospect.models.priors.LogUniform'>(mini=100000000.0,maxi=1000000000000.0)\n",
       "  logzsol: <class 'prospect.models.priors.TopHat'>(mini=-2,maxi=0.19)\n",
       "  dust2: <class 'prospect.models.priors.TopHat'>(mini=0.0,maxi=2.0)\n",
       "  tage: <class 'prospect.models.priors.TopHat'>(mini=0.001,maxi=13.8)\n",
       "  tau: <class 'prospect.models.priors.LogUniform'>(mini=0.1,maxi=30)\n",
       "\n",
       "Fixed Parameters: (name: value [, depends_on]) \n",
       "-----------\n",
       "  zred: [3.548] \n",
       "  sfh: [1] \n",
       "  imf_type: [2] \n",
       "  dust_type: [0] \n",
       "  tburst: [0.] <function tburst_from_fage at 0x7f0db4e28ea0>\n",
       "  fburst: [0.001] \n",
       "  fage_burst: [0.] \n",
       "  const: [0.] "
      ]
     },
     "execution_count": 8,
     "metadata": {},
     "output_type": "execute_result"
    }
   ],
   "source": [
    "getModel(**run_params)"
   ]
  },
  {
   "cell_type": "code",
   "execution_count": 4,
   "id": "bf65f93b-85d5-4ac6-b6e2-480c41edeeae",
   "metadata": {},
   "outputs": [],
   "source": [
    "def generateSpecs():\n",
    "    \"\"\"Input of all the variable names and which are fixed/which are free with all of the priors\"\"\"\n",
    "    return"
   ]
  },
  {
   "cell_type": "markdown",
   "id": "4b99e758-1c3b-4763-936e-e84b1683c8c8",
   "metadata": {},
   "source": [
    "-----------------------\n",
    "### Test cells"
   ]
  },
  {
   "cell_type": "code",
   "execution_count": null,
   "id": "81b1b438-cc98-4770-a20a-50cd66eb972e",
   "metadata": {},
   "outputs": [],
   "source": [
    "N = 4 # Number of plots we're making to test\n",
    "\n",
    "fbursts = [0.001, .01, .6]\n",
    "dusts = np.linspace(0,3,4)\n",
    "print(fbursts)\n",
    "\n",
    "specs = np.empty((N,len(wspec)))\n",
    "\n",
    "for f in tqdm(dusts):\n",
    "    # run_params['fburst'], run_params['const'] = f, .8 - f\n",
    "    run_params['dust2'] = f\n",
    "    model = model_function(**run_params)\n",
    "    spec, phot, mfrac = model.predict(model.theta, obs=obs, sps=sps)\n",
    "    specs[n] = spec\n",
    "print('done')"
   ]
  }
 ],
 "metadata": {
  "kernelspec": {
   "display_name": "reu",
   "language": "python",
   "name": "reu"
  },
  "language_info": {
   "codemirror_mode": {
    "name": "ipython",
    "version": 3
   },
   "file_extension": ".py",
   "mimetype": "text/x-python",
   "name": "python",
   "nbconvert_exporter": "python",
   "pygments_lexer": "ipython3",
   "version": "3.13.4"
  }
 },
 "nbformat": 4,
 "nbformat_minor": 5
}
