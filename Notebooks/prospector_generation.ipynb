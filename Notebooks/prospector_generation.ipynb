{
 "cells": [
  {
   "cell_type": "code",
   "execution_count": 2,
   "id": "fb5c4bd0-7203-4647-ab76-2f748392539e",
   "metadata": {},
   "outputs": [],
   "source": [
    "import prospect\n",
    "import os\n",
    "import fsps\n",
    "import dynesty\n",
    "import sedpy\n",
    "import h5py, astropy\n",
    "import numpy as np\n",
    "import pandas as pd\n",
    "import astroquery\n",
    "import astropy.units as u\n",
    "from tqdm import tqdm\n",
    "from prospect.models.templates import TemplateLibrary, describe\n",
    "from astropy.cosmology import Planck13\n",
    "from prospect.models import SpecModel\n",
    "from prospect.sources import CSPSpecBasis, FastStepBasis\n",
    "from sedpy import observate \n",
    "import seaborn as sns\n",
    "import matplotlib.pyplot as plt"
   ]
  },
  {
   "cell_type": "code",
   "execution_count": null,
   "id": "8c90ad42-82a1-47c8-b186-084e1015a892",
   "metadata": {},
   "outputs": [],
   "source": [
    "def get_lsfr_ratio(lmass, z, lsfr):\n",
    "    \"\"\"\n",
    "    We're modeling using a two-value star formation history, both of which are constant. \n",
    "    Prospector takes as input the log of the ratio of those two star formation rates. \n",
    "    We have the current star formation rate; we next have to find the 'old' star formation rate\n",
    "        such that the total mass is what we want it to be. \n",
    "    This function does that algebra for us. \n",
    "    \"\"\"\n",
    "    # determine lsfr1 / lsfr2 = lsfr1 / lsfr\n",
    "\n",
    "    # calculate sfr2\n",
    "    sfr = 10 ** lsfr\n",
    "    mass = 10 ** lmass\n",
    "\n",
    "    t_sfr1 = Planck13.lookback_time(1000).value - Planck13.lookback_time(z).value - t_current_sfr\n",
    "    sfr1 = (mass - (sfr * t_current_sfr * 1e9)) / (t_sfr1 * 1e9)\n",
    "    assert sfr1 >= 0, 'sfr1 < 0'\n",
    "\n",
    "    return np.log10(sfr / sfr1)  "
   ]
  },
  {
   "cell_type": "code",
   "execution_count": null,
   "id": "c79c836d-97e5-4af4-9264-ad532c6091d7",
   "metadata": {},
   "outputs": [],
   "source": [
    "def get_lr(line1, e_line1, line2, e_line2):\n",
    "    \"\"\"\n",
    "    Compute line ratios and uncertainties to avoid doing error propagation every time.\n",
    "    \"\"\"\n",
    "    llr = np.log10(line1 / line2)\n",
    "    e_lr = abs(llr) / np.log(10) * np.sqrt((e_line1 / line1) ** 2 + (e_line2 / line2) ** 2)\n",
    "    return llr, e_lr"
   ]
  },
  {
   "cell_type": "code",
   "execution_count": null,
   "id": "b17775f3-1edf-4362-85fd-89843a07e006",
   "metadata": {},
   "outputs": [],
   "source": [
    "# fit logU - sSFR relation from https://ui.adsabs.harvard.edu/abs/2018MNRAS.477.5568K/abstract\n",
    "logu_csv = pd.read_csv('logu_ssfr.csv', names=['ssfr', 'logu'])\n",
    "m_logu, b_logu = np.polyfit(logu_csv.ssfr, logu_csv.logu, deg=1)"
   ]
  },
  {
   "cell_type": "code",
   "execution_count": null,
   "id": "d1ec4dc4-0eab-4f2e-8467-d4e16444e571",
   "metadata": {},
   "outputs": [],
   "source": [
    "def get_logu(sSFR):\n",
    "    \"\"\"\n",
    "    get logU (excitation parameter) from sSFR (specific star formation rate)\n",
    "    https://ui.adsabs.harvard.edu/abs/2018MNRAS.477.5568K/abstract\n",
    "    \"\"\"\n",
    "    return b_logu + m_logu * sSFR"
   ]
  },
  {
   "cell_type": "code",
   "execution_count": null,
   "id": "7b38cd14-8494-4875-9ecc-9a0fd4c6a804",
   "metadata": {},
   "outputs": [],
   "source": [
    "# ==================MAKE GRID OF PROSPECTOR GALAXIES======================\n",
    "\n",
    "t_current_sfr = 0.05 # Gyr; amount of time spent at 'current' star formation rate\n",
    "\n",
    "n_elem = 30 # number of elements for M*, SFR, z, 12+log(O/H). this is the \"resolution\"\n",
    "n_param = 4 # number of parameters we'll vary\n",
    "lmass_arr = np.linspace(7, 11.5, n_elem)\n",
    "lsfr_arr = np.linspace(-0.5, 3, n_elem)\n",
    "z_arr = np.linspace(3, 7, n_elem)\n",
    "metal_arr = np.linspace(6.5, 9, n_elem)\n",
    "\n",
    "pros_mat = np.array(np.meshgrid(lmass_arr, lsfr_arr, z_arr, metal_arr)).T\n",
    "pros_arr = pros_mat.reshape(int(np.prod(pros_mat.shape) / n_param), n_param)\n",
    "\n",
    "print('Prospector matrix shape:', pros_arr.shape)"
   ]
  },
  {
   "cell_type": "code",
   "execution_count": null,
   "id": "c9a171fb-c94b-4353-8bae-39f31a002b9f",
   "metadata": {},
   "outputs": [],
   "source": [
    "# generate empty arrays to fill\n",
    "f150w_pros = np.zeros(pros_arr.shape[0])\n",
    "f444w_pros = np.zeros(pros_arr.shape[0])\n",
    "mass_pros, lsfr_pros, z_pros, metal_pros = pros_arr[:, 0], pros_arr[:, 1], pros_arr[:, 2], pros_arr[:, 3]\n",
    "has = np.zeros(pros_arr.shape[0])\n",
    "hbs = np.zeros(pros_arr.shape[0])\n",
    "oiiis = np.zeros(pros_arr.shape[0])\n",
    "siis0 = np.zeros(pros_arr.shape[0])\n",
    "siis1 = np.zeros(pros_arr.shape[0])\n",
    "weights_sfms = np.zeros(pros_arr.shape[0])\n",
    "weights_mf = np.zeros(pros_arr.shape[0])\n",
    "mass_fracs = np.zeros(pros_arr.shape[0]) "
   ]
  },
  {
   "cell_type": "code",
   "execution_count": null,
   "id": "8d7868ac-b182-4b0a-a779-f0ff7b81b8e8",
   "metadata": {},
   "outputs": [],
   "source": [
    "# DEFINE BASICS\n",
    "sps = FastStepBasis(zcontinuous=1)\n",
    "filters = observate.load_filters(['jwst_f150w', 'jwst_f444w']) # we'll want F150W and F444W\n",
    "# see link below to add additional photometry\n",
    "# https://github.com/bd-j/sedpy/blob/main/sedpy/data/filters/README.md\n",
    "obs = dict(wave_effective=[1494.4, 4378.7], spectrum=None, unc=None,\n",
    "           maggies=np.ones(len(filters))*1e-10, maggies_unc=np.ones(len(filters))*1e-10, filters=filters)"
   ]
  },
  {
   "cell_type": "code",
   "execution_count": null,
   "id": "9e7320cc-f56a-4965-be5f-54f83737e573",
   "metadata": {},
   "outputs": [],
   "source": [
    "# START LOOP\n",
    "print('Generating prospector models')\n",
    "for pp in tqdm(range(pros_arr.shape[0])):\n",
    "    if 10 ** mass_pros[pp] >= (10 ** lsfr_pros[pp]) * t_current_sfr * 1e9: \n",
    "    # check that mass > mass formed during current star formation, otherwise nonsensical!\n",
    "        model_params = TemplateLibrary[\"continuity_sfh\"]\n",
    "        model_params.update(TemplateLibrary[\"nebular\"])\n",
    "\n",
    "        # initialize parameters\n",
    "        model_params['mass']['init'] = 10 ** mass_pros[pp]\n",
    "        model_params['zred']['init'] = z_pros[pp]\n",
    "        model_params['gas_logz']['init'] = metal_pros[pp] - 8.69 # units of log(Z / Z_sol)\n",
    "        model_params['logzsol']['init'] = metal_pros[pp] - 8.69 # units of log(Z / Z_sol)\n",
    "        \n",
    "        # model_params['gas_logu']['init'] = -2\n",
    "\n",
    "        t_now = Planck13.lookback_time(z_pros[pp]).value\n",
    "        model_params['agebins']['init'] = [[0,                      np.log10((t_now-0.1)*1e9)], \n",
    "                                        [np.log10((t_now-0.1)*1e9), np.log10( t_now     *1e9)]] # units of log(years)\n",
    "        model_params['logsfr_ratios']['init'] = get_lsfr_ratio(mass_pros[pp], z_pros[pp], lsfr_pros[pp])\n",
    "        model = SpecModel(model_params)\n",
    "\n",
    "        try:\n",
    "            mass_fracs[pp] = sps.ssp.stellar_mass / sps.ssp.formed_mass\n",
    "            # prospector is weird. we give it the total mass, but only get the stellar mass out after the fact.\n",
    "        except: mass_fracs[pp] = np.nan\n",
    "\n",
    "        ssfr = 10 ** (lsfr_pros[pp]) / ((10 ** mass_pros[pp]) * mass_fracs[pp])\n",
    "        model_params['gas_logu']['init'] = get_logu(np.log10(ssfr))\n",
    "        \n",
    "        model = SpecModel(model_params)\n",
    "\n",
    "        # current_parameters = \",\".join([f\"{p}={v}\" for p, v in zip(model.free_params, model.theta)])\n",
    "        spec, phot, mfrac = model.predict(model.theta, obs=obs, sps=sps)\n",
    "\n",
    "        emlines = (model._eline_lum * u.L_sun / u.M_sun * (10 ** mass_pros[pp] * u.M_sun))\n",
    "        emlines = emlines / (4 * np.pi * Planck13.luminosity_distance(z_pros[pp]) ** 2)\n",
    "        emlines = emlines.to(u.erg / u.s / u.cm ** 2).value\n",
    "        # https://github.com/cconroy20/fsps/blob/master/data/emlines_info.dat\n",
    "        has[pp], hbs[pp], oiiis[pp], siis0[pp], siis1[pp] = emlines[74], emlines[59], emlines[62], emlines[77], emlines[78]\n",
    "\n",
    "        f150w_pros[pp], f444w_pros[pp] = phot[0], phot[1] \n",
    "\n",
    "    else: \n",
    "        has[pp], hbs[pp], oiiis[pp], siis0[pp], siis1[pp] = np.nan, np.nan, np.nan, np.nan, np.nan\n",
    "        f150w_pros[pp], f444w_pros[pp] = np.nan, np.nan"
   ]
  },
  {
   "cell_type": "code",
   "execution_count": null,
   "id": "d156b25d-68b2-46cb-89da-4728f6180530",
   "metadata": {},
   "outputs": [],
   "source": [
    "# save into dataframe\n",
    "pros_df = pd.DataFrame()\n",
    "pros_df['mass'] = mass_pros\n",
    "pros_df['lsfr'] = lsfr_pros\n",
    "pros_df['z'] = z_pros\n",
    "pros_df['metal'] = metal_pros\n",
    "pros_df['ha'] = has\n",
    "pros_df['hb'] = hbs\n",
    "pros_df['oiii'] = oiiis\n",
    "pros_df['sii0'] = siis0\n",
    "pros_df['sii1'] = siis1\n",
    "pros_df['f444w'] = -2.5 * np.log10(f444w_pros)\n",
    "pros_df['f150w'] = -2.5 * np.log10(f150w_pros)\n",
    "pros_df['mass_frac'] = mass_fracs\n",
    "pros_df['mstar'] = np.log10(10 ** mass_pros * mass_fracs)\n",
    "pros_df[(pros_df.mstar.values < 0)] = np.nan\n",
    "# pros_df.to_csv(f'/usr/data/oso2/zlewis/rubies/sel_func/pros_df_{n_elem}elem.csv') # change!\n",
    "print('dataframe saved')"
   ]
  },
  {
   "cell_type": "code",
   "execution_count": 6,
   "id": "21e74f36-2f05-48be-981f-807e439fa9d7",
   "metadata": {},
   "outputs": [
    {
     "data": {
      "text/plain": [
       "(1000,)"
      ]
     },
     "execution_count": 6,
     "metadata": {},
     "output_type": "execute_result"
    }
   ],
   "source": [
    "d = np.zeros((10,10,10))\n",
    "d.ravel().shape"
   ]
  },
  {
   "cell_type": "code",
   "execution_count": null,
   "id": "6a0776a5-575e-40ec-88a8-d3614a0efe02",
   "metadata": {},
   "outputs": [],
   "source": []
  }
 ],
 "metadata": {
  "kernelspec": {
   "display_name": "reu",
   "language": "python",
   "name": "reu"
  },
  "language_info": {
   "codemirror_mode": {
    "name": "ipython",
    "version": 3
   },
   "file_extension": ".py",
   "mimetype": "text/x-python",
   "name": "python",
   "nbconvert_exporter": "python",
   "pygments_lexer": "ipython3",
   "version": "3.13.4"
  }
 },
 "nbformat": 4,
 "nbformat_minor": 5
}
