{
 "cells": [
  {
   "cell_type": "code",
   "execution_count": 1,
   "id": "6f43922f-8317-48e2-964f-5b6b97a17f9c",
   "metadata": {},
   "outputs": [],
   "source": [
    "import numpy as np"
   ]
  },
  {
   "cell_type": "code",
   "execution_count": 3,
   "id": "72e7e73e-f618-4145-909e-52a13804ce4e",
   "metadata": {},
   "outputs": [],
   "source": [
    "data_grid_params = np.load('params.npy')\n",
    "data_grid_spec = np.load('specs.npy')\n",
    "data_grid_phot = np.load('phots.npy')"
   ]
  },
  {
   "cell_type": "code",
   "execution_count": null,
   "id": "2ea2ff0b-44bc-4d54-a32c-65ec8e86c6c9",
   "metadata": {},
   "outputs": [],
   "source": []
  }
 ],
 "metadata": {
  "kernelspec": {
   "display_name": "reu",
   "language": "python",
   "name": "reu"
  },
  "language_info": {
   "codemirror_mode": {
    "name": "ipython",
    "version": 3
   },
   "file_extension": ".py",
   "mimetype": "text/x-python",
   "name": "python",
   "nbconvert_exporter": "python",
   "pygments_lexer": "ipython3",
   "version": "3.13.4"
  }
 },
 "nbformat": 4,
 "nbformat_minor": 5
}
