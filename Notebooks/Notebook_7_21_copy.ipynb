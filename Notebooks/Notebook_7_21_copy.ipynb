{
 "cells": [
  {
   "cell_type": "code",
   "execution_count": 1,
   "id": "24d2528e-efe7-40fd-aa91-f6a124fffb2c",
   "metadata": {},
   "outputs": [],
   "source": [
    "import numpy as np\n",
    "from matplotlib.pyplot import *\n",
    "\n",
    "from prospect.models.templates import TemplateLibrary\n",
    "from prospect.plotting.sfh import parametric_sfr\n",
    "from prospect.plotting.sfh import parametric_pset\n",
    "from prospect.plotting.sfh import compute_mass_formed\n",
    "from prospect.models.transforms import tburst_from_fage\n",
    "\n",
    "import sys\n",
    "sys.path.append('/home/samantha/Documents/REU/scripts/') # Use the absolute path to the directory\n",
    "# sys.path.append('/home/samantha/Documents/REU/npys/')\n",
    "%pwd\n",
    "from prospectFunctionsSFH import *\n",
    "\n",
    "from astropy.cosmology import Planck13"
   ]
  },
  {
   "cell_type": "code",
   "execution_count": 2,
   "id": "42a4920a-d51f-4a5f-93f5-1b5565805c3f",
   "metadata": {},
   "outputs": [],
   "source": [
    "imf_type = 0\n",
    "num_models = 100*6*100 #len(logzs)*len(dusts)*len(tages)\n",
    "data_grid_params = np.load(f'/home/samantha/Documents/REU/npys/params_imf_{imf_type}_{num_models}.npy')"
   ]
  },
  {
   "cell_type": "code",
   "execution_count": 26,
   "id": "3911ebba-67f2-4a81-bde6-f591bfae3693",
   "metadata": {},
   "outputs": [
    {
     "name": "stdout",
     "output_type": "stream",
     "text": [
      "tage bounds: [0.1 2. ]\n"
     ]
    }
   ],
   "source": [
    "print('tage bounds:', data_grid_params[0,0,[0,-1],-1]) # logzsol, dust2, tage\n",
    "tages = np.logspace(-1,np.log10(2),100)"
   ]
  },
  {
   "cell_type": "code",
   "execution_count": 28,
   "id": "c48efa7e-4c58-47f3-8f71-23026bc8cdfc",
   "metadata": {},
   "outputs": [],
   "source": [
    "def getRanges(bounds_dict, N=5):\n",
    "    keys = list(bounds_dict.keys())\n",
    "    values = np.zeros([len(keys),N])\n",
    "    for i, key in enumerate(keys):\n",
    "        if key in ['tage']:\n",
    "            values[i,:] = np.logspace(bounds_dict[key][0], bounds_dict[key][-1], N)\n",
    "        else:\n",
    "            values[i,:] = np.linspace(bounds_dict[key][0], bounds_dict[key][-1], N)\n",
    "    ranges_dict = dict(zip(keys,values))\n",
    "    return ranges_dict"
   ]
  },
  {
   "cell_type": "code",
   "execution_count": 38,
   "id": "9d81addb-db48-452e-9eeb-2b385b034396",
   "metadata": {},
   "outputs": [
    {
     "data": {
      "text/plain": [
       "{'tage': array([0.1       , 0.21147425, 0.4472136 , 0.94574161, 2.        ]),\n",
       " 'fburst': array([0.  , 0.25, 0.5 , 0.75, 1.  ]),\n",
       " 'fage_burst': array([0.  , 0.25, 0.5 , 0.75, 1.  ]),\n",
       " 'tburst': array([0.       , 0.0752575, 0.150515 , 0.2257725, 0.30103  ])}"
      ]
     },
     "execution_count": 38,
     "metadata": {},
     "output_type": "execute_result"
    }
   ],
   "source": [
    "ranges_dict = getRanges(free_params)\n",
    "ranges_dict"
   ]
  },
  {
   "cell_type": "code",
   "execution_count": 47,
   "id": "85cefef0-dfe3-41d7-9190-1ef04d839b27",
   "metadata": {},
   "outputs": [
    {
     "data": {
      "text/plain": [
       "0.0"
      ]
     },
     "execution_count": 47,
     "metadata": {},
     "output_type": "execute_result"
    }
   ],
   "source": [
    "tburst_from_fage(tage=run_params['tage'], fage_burst=free_params['fage_burst'][0])"
   ]
  },
  {
   "cell_type": "code",
   "execution_count": 48,
   "id": "7fb9f63b-5496-4480-ab8a-4d6cd24211fb",
   "metadata": {},
   "outputs": [],
   "source": [
    "run_params = {}\n",
    "run_params['zred'] = 3.548 # Redshift of the cliff\n",
    "run_params['mass'] = 1e8\n",
    "run_params['logzsol'] = 0.0 # Solar metallicity\n",
    "run_params['dust2'] = 0.0 # No dust in the galaxy\n",
    "run_params['sfh'] = 1 # tau model plus a constant component and a burst (4 for delay tau, unecessary for our purpose)\n",
    "run_params['imf_type'] = 2 # (Kroupa 2001)\n",
    "run_params['dust_type'] = 0\n",
    "\n",
    "free_params = {} # Use free_params to establish upper and lower bounds of priors for free parameters\n",
    "# free_params['tau'] = []\n",
    "free_params['tage'] = [-1,np.log10(2.0)] # logspace\n",
    "free_params['fburst'] = [0,1]\n",
    "free_params['fage_burst'] = [0,1]\n",
    "\n",
    "# Should not need a range for tbursts, can just do conversion in for loop later\n",
    "# free_params['tburst'] = [tburst_from_fage(tage=run_params['tage'], fage_burst=free_params['fage_burst'][0]), \n",
    "#                          tburst_from_fage(tage=run_params_params['tage'], fage_burst=free_params['fage_burst'][-1])]\n",
    "# Should set `const` depending on fburst later (since `const + fburst <= 1)\n",
    "# free_params['const'] = True\n",
    "\n",
    "# First set fsf_start and fsf_trunc to determine by what fraction of sfh is delayed at by what fraction sfh is truncated\n",
    "# free_params['sf_start'] = True\n",
    "# free_params['sf_trunc'] = True\n",
    "\n",
    "# i = 0\n",
    "# for key in list(free_params.keys()):\n",
    "#     run_params[key] = param_ranges[key][i]\n",
    "\n",
    "\n",
    "# CHANGE THE FOLLOWING SECTION, THIS IS ONLY TEMPORARY FOR TESTING FUNCTIONS OUT BELOW\n",
    "run_params['add_burst'] = True\n",
    "run_params['add_trunc'] = True\n",
    "\n",
    "\n",
    "run_params['tau'] = 0.05\n",
    "run_params['tage'] = 1.0\n",
    "run_params['fburst'] = .8\n",
    "run_params['fage_burst'] = .5\n",
    "run_params['tburst'] = tburst_from_fage(**run_params) # The age of the universe (age of the host) when the burst occurred\n",
    "run_params['const'] = 0\n",
    "run_params['sf_start'] = 0\n",
    "run_params['sf_trunc'] = 0\n",
    "\n",
    "# obs = getObs()\n",
    "# sps = getSps(**run_params)"
   ]
  },
  {
   "cell_type": "code",
   "execution_count": 49,
   "id": "e3c62229-9d62-4968-b105-943d7aa9f7a9",
   "metadata": {},
   "outputs": [
    {
     "data": {
      "text/plain": [
       "{'zred': 3.548,\n",
       " 'mass': 100000000.0,\n",
       " 'logzsol': 0.0,\n",
       " 'dust2': 0.0,\n",
       " 'sfh': 1,\n",
       " 'imf_type': 2,\n",
       " 'dust_type': 0,\n",
       " 'add_burst': True,\n",
       " 'add_trunc': True,\n",
       " 'tau': 0.05,\n",
       " 'tage': 1.0,\n",
       " 'fburst': 0.8,\n",
       " 'fage_burst': 0.5,\n",
       " 'tburst': 0.5,\n",
       " 'const': 0,\n",
       " 'sf_start': 0,\n",
       " 'sf_trunc': 0}"
      ]
     },
     "execution_count": 49,
     "metadata": {},
     "output_type": "execute_result"
    }
   ],
   "source": [
    "run_params"
   ]
  },
  {
   "cell_type": "markdown",
   "id": "825e486b-e237-43c5-ac60-19596c7845d0",
   "metadata": {},
   "source": [
    "#### MAKE A GET PARAMS FUNCTION AND FINISH ^^^^\n",
    "\n",
    "- find reasonable range for each parameter\n",
    "    - tau         |  []\n",
    "    - tage        |  [] (same a maximized before?)\n",
    "    - fburst      |  [0,1] (linspace)\n",
    "    - fage_burst  |  [0,1]\n",
    "    - const       |  []\n",
    "    - sf_start    |  []\n",
    "    - sf_trunc    |  []\n",
    "        - to do this step, use the parametric_sfh to plot all the variations of a specfic variable all on the same plot"
   ]
  },
  {
   "cell_type": "code",
   "execution_count": 145,
   "id": "7e007e21-2299-4abf-ba19-4aeeab3ba99e",
   "metadata": {},
   "outputs": [
    {
     "name": "stdout",
     "output_type": "stream",
     "text": [
      "Help on function tburst_from_fage in module prospect.models.transforms:\n",
      "\n",
      "tburst_from_fage(tage=0.0, fage_burst=0.0, **extras)\n",
      "    This function transfroms from a fractional age of a burst to an absolute\n",
      "    age.  With this transformation one can sample in ``fage_burst`` without\n",
      "    worry about the case ``tburst`` > ``tage``.\n",
      "\n",
      "    Parameters\n",
      "    ----------\n",
      "    tage : float, Gyr\n",
      "        The age of the host galaxy.\n",
      "\n",
      "    fage_burst : float between 0 and 1\n",
      "        The fraction of the host age at which the burst occurred.\n",
      "\n",
      "    Returns\n",
      "    -------\n",
      "    tburst : float, Gyr\n",
      "        The age of the host when the burst occurred (i.e. the FSPS ``tburst``\n",
      "        parameter)\n",
      "\n"
     ]
    }
   ],
   "source": [
    "tburst_from_fage(**run_params)\n",
    "help(tburst_from_fage)"
   ]
  },
  {
   "cell_type": "code",
   "execution_count": 146,
   "id": "09e11391-ea08-4e85-8335-2a2edce6278d",
   "metadata": {},
   "outputs": [],
   "source": [
    "run_params['const'] = 1"
   ]
  },
  {
   "cell_type": "code",
   "execution_count": 147,
   "id": "6dbf4ee5-7b86-470d-87b7-82b9ef482d95",
   "metadata": {},
   "outputs": [
    {
     "data": {
      "text/plain": [
       "Namespace(mass=array([1.e+08]), sfh=1, sf_start=array([0]), tage=array([1.5]), tau=array([0.05]), const=array([1]), fburst=array([0.8]), tburst=array([0.75]), sf_trunc=array([0]), sf_slope=array([0.]))"
      ]
     },
     "execution_count": 147,
     "metadata": {},
     "output_type": "execute_result"
    }
   ],
   "source": [
    "parametric_pset(**run_params)"
   ]
  },
  {
   "cell_type": "code",
   "execution_count": 148,
   "id": "8ddd2d4a-e3e8-4a10-b2ba-cc923f17edfb",
   "metadata": {},
   "outputs": [
    {
     "name": "stdout",
     "output_type": "stream",
     "text": [
      "{'zred': 3.548, 'mass': 100000000.0, 'logzsol': 0.0, 'dust2': 0.0, 'sfh': 1, 'imf_type': 2, 'dust_type': 0, 'add_burst': True, 'add_trunc': True, 'tau': 0.05, 'tage': 1.5, 'fburst': 0.8, 'fage_burst': 0.5, 'tburst': 0.75, 'const': 1, 'sf_start': 0, 'sf_trunc': 0}\n"
     ]
    },
    {
     "ename": "ValueError",
     "evalue": "Constant and burst fractions combine to be > 1",
     "output_type": "error",
     "traceback": [
      "\u001b[31m---------------------------------------------------------------------------\u001b[39m",
      "\u001b[31mValueError\u001b[39m                                Traceback (most recent call last)",
      "\u001b[36mCell\u001b[39m\u001b[36m \u001b[39m\u001b[32mIn[148]\u001b[39m\u001b[32m, line 10\u001b[39m\n\u001b[32m      8\u001b[39m     run_params[\u001b[33m'\u001b[39m\u001b[33msf_trunc\u001b[39m\u001b[33m'\u001b[39m] = f\n\u001b[32m      9\u001b[39m     \u001b[38;5;28mprint\u001b[39m(run_params)\n\u001b[32m---> \u001b[39m\u001b[32m10\u001b[39m     sfrs = parametric_sfr(times=times,**run_params)\n\u001b[32m     11\u001b[39m     plot(times,sfrs,label=\u001b[33mf\u001b[39m\u001b[33m'\u001b[39m\u001b[38;5;132;01m{\u001b[39;00mf\u001b[38;5;132;01m}\u001b[39;00m\u001b[33m'\u001b[39m)\n\u001b[32m     13\u001b[39m xlim([times[-\u001b[32m1\u001b[39m]*\u001b[32m1.01\u001b[39m,times[\u001b[32m0\u001b[39m]/\u001b[32m1.01\u001b[39m])\n",
      "\u001b[36mFile \u001b[39m\u001b[32m~/anaconda3/envs/reu/lib/python3.13/site-packages/prospect/plotting/sfh.py:128\u001b[39m, in \u001b[36mparametric_sfr\u001b[39m\u001b[34m(times, tavg, tage, **sfh)\u001b[39m\n\u001b[32m    125\u001b[39m     times = np.array(tage)\n\u001b[32m    127\u001b[39m pset = parametric_pset(tage=tage, **sfh)\n\u001b[32m--> \u001b[39m\u001b[32m128\u001b[39m sfr, mass = compute_mass_formed(tage - times, pset)\n\u001b[32m    129\u001b[39m \u001b[38;5;28;01mif\u001b[39;00m tavg > \u001b[32m0\u001b[39m:\n\u001b[32m    130\u001b[39m     _, meps = compute_mass_formed((tage - times) - tavg, pset)\n",
      "\u001b[36mFile \u001b[39m\u001b[32m~/anaconda3/envs/reu/lib/python3.13/site-packages/prospect/plotting/sfh.py:267\u001b[39m, in \u001b[36mcompute_mass_formed\u001b[39m\u001b[34m(times, pset)\u001b[39m\n\u001b[32m    264\u001b[39m     \u001b[38;5;28;01mraise\u001b[39;00m \u001b[38;5;167;01mValueError\u001b[39;00m(\u001b[33m\"\u001b[39m\u001b[33mSF never started (tage - sf_start < 0) for at least one input\u001b[39m\u001b[33m\"\u001b[39m)\n\u001b[32m    266\u001b[39m \u001b[38;5;28;01mif\u001b[39;00m (pset.const + pset.fburst) > \u001b[32m1\u001b[39m:\n\u001b[32m--> \u001b[39m\u001b[32m267\u001b[39m     \u001b[38;5;28;01mraise\u001b[39;00m \u001b[38;5;167;01mValueError\u001b[39;00m(\u001b[33m\"\u001b[39m\u001b[33mConstant and burst fractions combine to be > 1\u001b[39m\u001b[33m\"\u001b[39m)\n\u001b[32m    269\u001b[39m \u001b[38;5;28;01mif\u001b[39;00m (pset.sfh == \u001b[32m0\u001b[39m):\n\u001b[32m    270\u001b[39m     \u001b[38;5;66;03m# SSPs\u001b[39;00m\n\u001b[32m    271\u001b[39m     mfrac = \u001b[32m1.0\u001b[39m * (tprime > tmass)\n",
      "\u001b[31mValueError\u001b[39m: Constant and burst fractions combine to be > 1"
     ]
    },
    {
     "data": {
      "text/plain": [
       "<Figure size 800x500 with 0 Axes>"
      ]
     },
     "metadata": {},
     "output_type": "display_data"
    }
   ],
   "source": [
    "times = np.linspace(0,run_params['tage'],10000)\n",
    "truncs = [0]\n",
    "\n",
    "figure(figsize=(8,5))\n",
    "for f in truncs:\n",
    "    # run_params['fage_burst'] = f\n",
    "    # run_params['tburst'] = tburst_from_fage(tage=run_params['tage'],fage_burst=f)\n",
    "    run_params['sf_trunc'] = f\n",
    "    print(run_params)\n",
    "    sfrs = parametric_sfr(times=times,**run_params)\n",
    "    plot(times,sfrs,label=f'{f}')\n",
    "\n",
    "xlim([times[-1]*1.01,times[0]/1.01])\n",
    "legend()\n",
    "\n",
    "xlabel('Lookback Time [Gyrs]')\n",
    "ylabel(r'Star Formation Rate [$M_{\\odot}$ $yr^{-1}$]')\n",
    "\n",
    "title_text = 'SFH'\n",
    "title(title_text)\n",
    "\n",
    "show()"
   ]
  },
  {
   "cell_type": "code",
   "execution_count": 149,
   "id": "b3e8c8a9-c64e-4198-8ee1-5ae1e3e1a5c9",
   "metadata": {},
   "outputs": [],
   "source": [
    "model = getModel(**run_params)"
   ]
  },
  {
   "cell_type": "code",
   "execution_count": 136,
   "id": "27997f23-abcc-4979-aa9a-cbdae2ab81ed",
   "metadata": {},
   "outputs": [],
   "source": [
    "sps = getSps(**run_params)\n",
    "obs = getObs()"
   ]
  },
  {
   "cell_type": "code",
   "execution_count": 131,
   "id": "3af3a914-24b9-41d1-9254-8aac21caf169",
   "metadata": {},
   "outputs": [],
   "source": [
    "wspec = sps.wavelengths"
   ]
  },
  {
   "cell_type": "code",
   "execution_count": 137,
   "id": "fdacc0aa-9b50-4c36-84bd-da7958d744ed",
   "metadata": {},
   "outputs": [],
   "source": [
    "spec, phot, mfrac = model.predict(model.theta,obs=obs,sps=sps)"
   ]
  },
  {
   "cell_type": "code",
   "execution_count": 138,
   "id": "9b4c9246-b35e-49ec-8de4-5ac336b8f544",
   "metadata": {},
   "outputs": [
    {
     "data": {
      "text/plain": [
       "[<matplotlib.lines.Line2D at 0x7f58f127f750>]"
      ]
     },
     "execution_count": 138,
     "metadata": {},
     "output_type": "execute_result"
    },
    {
     "data": {
      "image/png": "[encoded data removed]",
      "text/plain": [
       "<Figure size 640x480 with 1 Axes>"
      ]
     },
     "metadata": {},
     "output_type": "display_data"
    }
   ],
   "source": [
    "loglog(wspec,spec)"
   ]
  },
  {
   "cell_type": "code",
   "execution_count": 133,
   "id": "ba5bc147-f322-4de8-ad58-89fc9bffd90b",
   "metadata": {},
   "outputs": [
    {
     "data": {
      "text/plain": [
       "[<matplotlib.lines.Line2D at 0x7f58f1102850>]"
      ]
     },
     "execution_count": 133,
     "metadata": {},
     "output_type": "execute_result"
    },
    {
     "data": {
      "image/png": "[encoded data removed]",
      "text/plain": [
       "<Figure size 640x480 with 1 Axes>"
      ]
     },
     "metadata": {},
     "output_type": "display_data"
    }
   ],
   "source": [
    "loglog(wspec,spec)"
   ]
  },
  {
   "cell_type": "code",
   "execution_count": 97,
   "id": "b42c7485-2688-4a04-83d7-9f1f83108515",
   "metadata": {},
   "outputs": [
    {
     "ename": "NameError",
     "evalue": "name 'ranges_dict' is not defined",
     "output_type": "error",
     "traceback": [
      "\u001b[31m---------------------------------------------------------------------------\u001b[39m",
      "\u001b[31mNameError\u001b[39m                                 Traceback (most recent call last)",
      "\u001b[36mCell\u001b[39m\u001b[36m \u001b[39m\u001b[32mIn[97]\u001b[39m\u001b[32m, line 11\u001b[39m\n\u001b[32m      6\u001b[39m \u001b[38;5;66;03m# fages = np.linspace(0,1,3)\u001b[39;00m\n\u001b[32m      7\u001b[39m \u001b[38;5;66;03m# ranges_dict['fage_burst'] = fages\u001b[39;00m\n\u001b[32m      9\u001b[39m current = \u001b[33m'\u001b[39m\u001b[33mfage_burst\u001b[39m\u001b[33m'\u001b[39m\n\u001b[32m---> \u001b[39m\u001b[32m11\u001b[39m \u001b[38;5;28;01mfor\u001b[39;00m f \u001b[38;5;129;01min\u001b[39;00m ranges_dict[current]:\n\u001b[32m     12\u001b[39m     run_params[current] = f\n\u001b[32m     13\u001b[39m     run_params[\u001b[33m'\u001b[39m\u001b[33mtburst\u001b[39m\u001b[33m'\u001b[39m] = tburst_from_fage(**run_params)\n",
      "\u001b[31mNameError\u001b[39m: name 'ranges_dict' is not defined"
     ]
    },
    {
     "data": {
      "text/plain": [
       "<Figure size 800x400 with 0 Axes>"
      ]
     },
     "metadata": {},
     "output_type": "display_data"
    }
   ],
   "source": [
    "figure(figsize=(8,4))\n",
    "\n",
    "times = np.linspace(0,run_params['tage'],1000)\n",
    "times_plot = times + Planck13.lookback_time(run_params['zred']).value\n",
    "\n",
    "# fages = np.linspace(0,1,3)\n",
    "# ranges_dict['fage_burst'] = fages\n",
    "\n",
    "current = 'fage_burst'\n",
    "\n",
    "for f in ranges_dict[current]:\n",
    "    run_params[current] = f\n",
    "    run_params['tburst'] = tburst_from_fage(**run_params)\n",
    "    print(run_params['fage_burst'],run_params['tage'],'\\n', run_params)\n",
    "    sfrs = parametric_sfr(times=times,**run_params)\n",
    "    plot(times_plot,sfrs,label=f'{current}={f}')\n",
    "\n",
    "xlabel('Lookback Time [Gyrs]')\n",
    "ylabel(r'Star Formation Rate [$M_{\\odot}$ $yr^{-1}$]')\n",
    "\n",
    "title_text = 'SFH'\n",
    "title(title_text)\n",
    "\n",
    "xlim([times_plot[-1]*1.001,times_plot[0]/1.001])\n",
    "\n",
    "legend()\n",
    "tight_layout()\n",
    "\n",
    "show()"
   ]
  },
  {
   "cell_type": "code",
   "execution_count": null,
   "id": "139a524c-1eb3-4363-be25-e340ccbc5ec8",
   "metadata": {},
   "outputs": [],
   "source": []
  },
  {
   "cell_type": "markdown",
   "id": "1d4e1f52-ba87-4df6-8077-8ea79eae3650",
   "metadata": {},
   "source": [
    "------------"
   ]
  },
  {
   "cell_type": "code",
   "execution_count": 59,
   "id": "b1d8fe91-99bd-4f8e-8d08-9c2a28601b66",
   "metadata": {},
   "outputs": [],
   "source": [
    "from prospect.models.templates import TemplateLibrary"
   ]
  },
  {
   "cell_type": "code",
   "execution_count": 60,
   "id": "8df85693-4c41-4d04-8064-8a4c8c53f848",
   "metadata": {},
   "outputs": [
    {
     "name": "stdout",
     "output_type": "stream",
     "text": [
      "'type_defaults':\n",
      "  Explicitly sets dust amd IMF types.\n",
      "'ssp':\n",
      "  Basic set of (free) parameters for a delta function SFH\n",
      "'parametric_sfh':\n",
      "  Basic set of (free) parameters for a delay-tau SFH.\n",
      "'dust_emission':\n",
      "  The set of (fixed) dust emission parameters.\n",
      "'nebular':\n",
      "  The set of nebular emission parameters, with gas_logz tied to stellar logzsol.\n",
      "'nebular_marginalization':\n",
      "  Marginalize over emission amplitudes line contained inthe observed spectrum\n",
      "'fit_eline_redshift':\n",
      "  Fit for the redshift of the emission lines separatelyfrom the stellar redshift\n",
      "'agn_eline':\n",
      "  Add AGN emission lines\n",
      "'outlier_model':\n",
      "  The set of outlier (mixture) models for spectroscopy and photometry\n",
      "'agn':\n",
      "  The set of (fixed) AGN dusty torus emission parameters.\n",
      "'igm':\n",
      "  The set of (fixed) IGM absorption parameters.\n",
      "'spectral_smoothing':\n",
      "  Set of parameters for spectal smoothing.\n",
      "'optimize_speccal':\n",
      "  Set of parameters (most of which are fixed) for optimizing a polynomial calibration vector.\n",
      "'fit_speccal':\n",
      "  Set of parameters (most of which are free) for sampling the coefficients of a polynomial calibration vector.\n",
      "'burst_sfh':\n",
      "  The set of (fixed) parameters for an SF burst added to a parameteric SFH, with the burst time controlled by `fage_burst`.\n",
      "'logm_sfh':\n",
      "  Non-parameteric SFH fitting for log-mass in fixed time bins\n",
      "'continuity_sfh':\n",
      "  Non-parameteric SFH fitting for mass in fixed time bins with a smoothness prior\n",
      "'continuity_flex_sfh':\n",
      "  Non-parameteric SFH fitting for mass in flexible time bins with a smoothness prior\n",
      "'continuity_psb_sfh':\n",
      "  Non-parameteric SFH fitting for mass in Nfixed fixed bins and Nflex flexible time bins with a smoothness prior\n",
      "'dirichlet_sfh':\n",
      "  Non-parameteric SFH with Dirichlet prior (fractional SFR)\n",
      "'stochastic_sfh':\n",
      "  Stochastic SFH which correlates the SFRs between time bins based on model in TFC2020\n",
      "'alpha':\n",
      "  The prospector-alpha model, Leja et al. 2017\n",
      "'beta':\n",
      "  The prospector-beta model; Wang, Leja, et al. 2023\n"
     ]
    }
   ],
   "source": [
    "TemplateLibrary.show_contents()"
   ]
  },
  {
   "cell_type": "code",
   "execution_count": 24,
   "id": "4b59c7b2-dd7b-4a07-8116-c074e7848b58",
   "metadata": {},
   "outputs": [],
   "source": [
    "\n",
    "def getModel(add_burst=False, add_trunc=False, **extras):\n",
    "\n",
    "    from prospect.models import SpecModel\n",
    "    from prospect.models.templates import TemplateLibrary\n",
    "\n",
    "    model_params = TemplateLibrary['parametric_sfh']\n",
    "\n",
    "    if add_burst:\n",
    "        model_params.update(TemplateLibrary['burst_sfh'])\n",
    "        model_params['const'] = {'N': 1, 'isfree': False, 'init': 0.0, 'units': 'Solar Masses per year'}\n",
    "        if add_trunc:\n",
    "            model_params['sf_start'] = {'N': 1, 'isfree': False, 'init': 0.0, 'units': 'Gyrs'}\n",
    "            model_params['sf_trunc'] = {'N': 1, 'isfree': False, 'init': 0.0, 'units': 'Gyrs'}\n",
    "\n",
    "    for key in list(model_params.keys()):\n",
    "        model_params[key]['init'] = extras[key]\n",
    "\n",
    "    model = SpecModel(model_params)\n",
    "    \n",
    "    return model_params, model"
   ]
  },
  {
   "cell_type": "code",
   "execution_count": 25,
   "id": "015301b9-cff4-4fb7-b969-e1bc0ed9b6c3",
   "metadata": {},
   "outputs": [
    {
     "data": {
      "text/plain": [
       "{'zred': {'N': 1,\n",
       "  'isfree': False,\n",
       "  'init': 0.1,\n",
       "  'units': 'redshift',\n",
       "  'prior': <class 'prospect.models.priors.TopHat'>(mini=0.0,maxi=4.0)},\n",
       " 'mass': {'N': 1,\n",
       "  'isfree': True,\n",
       "  'init': 10000000000.0,\n",
       "  'units': 'Solar masses formed',\n",
       "  'prior': <class 'prospect.models.priors.LogUniform'>(mini=100000000.0,maxi=1000000000000.0)},\n",
       " 'logzsol': {'N': 1,\n",
       "  'isfree': True,\n",
       "  'init': -0.5,\n",
       "  'units': '$\\\\log (Z/Z_\\\\odot)$',\n",
       "  'prior': <class 'prospect.models.priors.TopHat'>(mini=-2,maxi=0.19)},\n",
       " 'dust2': {'N': 1,\n",
       "  'isfree': True,\n",
       "  'init': 0.6,\n",
       "  'units': 'optical depth at 5500AA',\n",
       "  'prior': <class 'prospect.models.priors.TopHat'>(mini=0.0,maxi=2.0)},\n",
       " 'sfh': {'N': 1, 'isfree': False, 'init': 4, 'units': 'FSPS index'},\n",
       " 'tage': {'N': 1,\n",
       "  'isfree': True,\n",
       "  'init': 1,\n",
       "  'units': 'Gyr',\n",
       "  'prior': <class 'prospect.models.priors.TopHat'>(mini=0.001,maxi=13.8)},\n",
       " 'imf_type': {'N': 1, 'isfree': False, 'init': 2},\n",
       " 'dust_type': {'N': 1, 'isfree': False, 'init': 0},\n",
       " 'tau': {'N': 1,\n",
       "  'isfree': True,\n",
       "  'init': 1,\n",
       "  'units': 'Gyr^{-1}',\n",
       "  'prior': <class 'prospect.models.priors.LogUniform'>(mini=0.1,maxi=30)}}"
      ]
     },
     "execution_count": 25,
     "metadata": {},
     "output_type": "execute_result"
    }
   ],
   "source": [
    "model_params = TemplateLibrary['parametric_sfh']\n",
    "model_params"
   ]
  }
 ],
 "metadata": {
  "kernelspec": {
   "display_name": "reu",
   "language": "python",
   "name": "reu"
  },
  "language_info": {
   "codemirror_mode": {
    "name": "ipython",
    "version": 3
   },
   "file_extension": ".py",
   "mimetype": "text/x-python",
   "name": "python",
   "nbconvert_exporter": "python",
   "pygments_lexer": "ipython3",
   "version": "3.13.4"
  }
 },
 "nbformat": 4,
 "nbformat_minor": 5
}
