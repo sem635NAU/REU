{
 "cells": [
  {
   "cell_type": "code",
   "execution_count": 1,
   "id": "a51b2eba-ae36-4257-8d80-4fd897f6c245",
   "metadata": {},
   "outputs": [],
   "source": [
    "# Generate finer grid mesh of parameter range for 1500 models, then for 20,000 models, then for 100,000 models"
   ]
  },
  {
   "cell_type": "code",
   "execution_count": 1,
   "id": "5f57b322-657e-4817-93f4-1487a3fcb8b3",
   "metadata": {},
   "outputs": [],
   "source": [
    "from matplotlib.pyplot import *\n",
    "import numpy as np\n",
    "from prospectFunctions import *\n",
    "import itertools\n",
    "import astropy.units as u\n",
    "import astropy.constants as const\n",
    "import time\n",
    "from tqdm import tqdm"
   ]
  },
  {
   "cell_type": "code",
   "execution_count": 2,
   "id": "937fc7dd-37b4-4666-bc4e-d04fdda9f051",
   "metadata": {},
   "outputs": [],
   "source": [
    "start = time.time()\n",
    "\n",
    "grid_ranges, run_params = getParams(100,5,200,dust=True)\n",
    "a = 1.0 + run_params['zred']\n",
    "\n",
    "logzs = grid_ranges['logzsol']\n",
    "dusts = grid_ranges['dust2']\n",
    "tages = grid_ranges['tage']\n",
    "\n",
    "obs = getObs(**run_params)\n",
    "sps = getSps(**run_params)\n",
    "wspec, wphot = getWave(obs=obs, sps=sps, **run_params)"
   ]
  },
  {
   "cell_type": "code",
   "execution_count": 4,
   "id": "831260da-8bdb-4ceb-b916-4af45e843202",
   "metadata": {},
   "outputs": [],
   "source": [
    "data_grid_params = np.empty([len(logzs),len(dusts),len(tages),5])\n",
    "data_grid_spec = np.empty([len(logzs),len(dusts),len(tages),len(wspec)])"
   ]
  },
  {
   "cell_type": "code",
   "execution_count": 5,
   "id": "050e40c4-f576-434c-a7f8-a62088cb1212",
   "metadata": {},
   "outputs": [
    {
     "name": "stderr",
     "output_type": "stream",
     "text": [
      "100000it [14:17, 116.64it/s]\n"
     ]
    }
   ],
   "source": [
    "for i_logz,i_dust,i_tage in tqdm(itertools.product(range(len(logzs)),range(len(dusts)),range(len(tages)))):\n",
    "    \n",
    "    logz = grid_ranges['logzsol'][i_logz]\n",
    "    dust = grid_ranges['dust2'][i_dust]\n",
    "    tage = grid_ranges['tage'][i_tage]\n",
    "\n",
    "    run_params['tage'] = tage\n",
    "    run_params['dust2'] = dust\n",
    "    run_params['logzsol'] = logz\n",
    "\n",
    "    model = getModel(**run_params)\n",
    "    \n",
    "    init_spec, init_phot, init_mfrac = model.predict(model.theta, obs=obs, sps=sps)\n",
    "\n",
    "    data_grid_params[i_logz, i_dust, i_tage, :] = [run_params['zred'], run_params['mass'], logz, dust, tage]\n",
    "    data_grid_spec[i_logz, i_dust, i_tage, :] = init_spec"
   ]
  },
  {
   "cell_type": "code",
   "execution_count": 6,
   "id": "98181c0d-a68e-4837-b4d4-af6380e588cb",
   "metadata": {},
   "outputs": [],
   "source": [
    "np.save('params_sps_100000.npy', data_grid_params)\n",
    "np.save('specs_sps_100000.npy', data_grid_spec)"
   ]
  },
  {
   "cell_type": "code",
   "execution_count": null,
   "id": "f93293c8-7a34-4aad-80a8-c02e0d9cf32d",
   "metadata": {},
   "outputs": [],
   "source": []
  }
 ],
 "metadata": {
  "kernelspec": {
   "display_name": "reu",
   "language": "python",
   "name": "reu"
  },
  "language_info": {
   "codemirror_mode": {
    "name": "ipython",
    "version": 3
   },
   "file_extension": ".py",
   "mimetype": "text/x-python",
   "name": "python",
   "nbconvert_exporter": "python",
   "pygments_lexer": "ipython3",
   "version": "3.13.4"
  }
 },
 "nbformat": 4,
 "nbformat_minor": 5
}
