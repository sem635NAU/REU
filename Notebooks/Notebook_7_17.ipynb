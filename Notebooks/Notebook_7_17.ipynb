{
 "cells": [
  {
   "cell_type": "code",
   "execution_count": 1,
   "id": "39b2138d-649c-4d5a-977a-531ec6d8cede",
   "metadata": {},
   "outputs": [],
   "source": [
    "import numpy as np\n",
    "from matplotlib.pyplot import *\n",
    "from tqdm import tqdm\n",
    "from astropy.cosmology import Planck13\n",
    "\n",
    "from prospectFunctionsSFH import *\n",
    "\n",
    "from prospect.plotting.sfh import parametric_sfr\n",
    "from prospect.models.templates import TemplateLibrary\n",
    "from prospect.models.transforms import tburst_from_fage"
   ]
  },
  {
   "cell_type": "code",
   "execution_count": 2,
   "id": "b3269e47-edb3-4a17-ab2c-21b361cf2de4",
   "metadata": {},
   "outputs": [],
   "source": [
    "# FIX THESE PARAMETERS\n",
    "run_params = {}\n",
    "run_params['zred'] = 3.548 # Redshift of the cliff\n",
    "run_params['mass'] = 1e8\n",
    "run_params['logzsol'] = 0.0 # Solar metallicity\n",
    "run_params['dust2'] = 0.0 # No dust in the galaxy\n",
    "run_params['zcontinuous'] = 1\n",
    "\n",
    "run_params['sfh'] = 1 # tau model plus a constant component and a burst (4 for delay tau, unecessary for our purpose)\n",
    "run_params['imf_type'] = 2 # (Kroupa 2001)\n",
    "\n",
    "#######################\n",
    "# VARY THESE PARAMETERS\n",
    "N = 3\n",
    "taus = np.linspace(-2,0,N)\n",
    "tages = np.logspace(-1,np.log10(2),N)\n",
    "# fbursts = np.linspace()\n",
    "# fages = np.linspace()\n",
    "# consts = np.linspace()\n",
    "# starts = np.linspace()\n",
    "# truncs = np.linspace()\n",
    "\n",
    "run_params['tau'] = taus[0] # The e-folding time for the SFH, range is 1e-1 to 1e2\n",
    "run_params['tage'] = tages[0] # The age of the host (galaxy) in Gyrs\n",
    "\n",
    "run_params['add_burst'] = False\n",
    "# run_params['fburst'] = fbursts[0] # The fraction of mass formed in an instantaneous burst of star formation\n",
    "# run_params['fage_burst'] = fages[0] # The fraction of the host age at which the burst occurred.\n",
    "# run_params['tburst'] = tburst_from_fage(**run_params) # The age of the universe (age of the host) when the burst occurred\n",
    "# run_params['const'] =  0.8 - run_params['fburst']\n",
    "\n",
    "run_params['add_trunc'] = False\n",
    "# run_params['sf_start'] = starts[0] # Start time of the SFH in Gyrs\n",
    "# run_params['sf_trunc'] = truncs[0] # Trunctation time of the SFH in Gyrs. 0.0 => no trunctation\n",
    "\n",
    "obs = getObs()\n",
    "sps = getSps(**run_params)\n",
    "\n",
    "wspec = sps.wavelengths"
   ]
  },
  {
   "cell_type": "code",
   "execution_count": 3,
   "id": "c51de0ed-314c-4b2a-a328-72c348c77418",
   "metadata": {},
   "outputs": [
    {
     "data": {
      "text/plain": [
       "{'zred': 3.548,\n",
       " 'mass': 100000000.0,\n",
       " 'logzsol': 0.0,\n",
       " 'dust2': 0.0,\n",
       " 'zcontinuous': 1,\n",
       " 'sfh': 1,\n",
       " 'imf_type': 2,\n",
       " 'tau': np.float64(-2.0),\n",
       " 'tage': np.float64(0.1),\n",
       " 'add_burst': False,\n",
       " 'add_trunc': False}"
      ]
     },
     "execution_count": 3,
     "metadata": {},
     "output_type": "execute_result"
    }
   ],
   "source": [
    "run_params"
   ]
  },
  {
   "cell_type": "code",
   "execution_count": 4,
   "id": "bf65f93b-85d5-4ac6-b6e2-480c41edeeae",
   "metadata": {},
   "outputs": [],
   "source": [
    "def generateSpecs():\n",
    "    \"\"\"Input of all the variable names and which are fixed/which are free with all of the priors\"\"\"\n",
    "    return"
   ]
  },
  {
   "cell_type": "markdown",
   "id": "4b99e758-1c3b-4763-936e-e84b1683c8c8",
   "metadata": {},
   "source": [
    "-----------------------\n",
    "### Test cells"
   ]
  },
  {
   "cell_type": "code",
   "execution_count": null,
   "id": "81b1b438-cc98-4770-a20a-50cd66eb972e",
   "metadata": {},
   "outputs": [],
   "source": [
    "N = 4 # Number of plots we're making to test\n",
    "\n",
    "fbursts = [0.001, .01, .6]\n",
    "dusts = np.linspace(0,3,4)\n",
    "print(fbursts)\n",
    "\n",
    "specs = np.empty((N,len(wspec)))\n",
    "\n",
    "for f in tqdm(dusts):\n",
    "    # run_params['fburst'], run_params['const'] = f, .8 - f\n",
    "    run_params['dust2'] = f\n",
    "    model = model_function(**run_params)\n",
    "    spec, phot, mfrac = model.predict(model.theta, obs=obs, sps=sps)\n",
    "    specs[n] = spec\n",
    "print('done')"
   ]
  }
 ],
 "metadata": {
  "kernelspec": {
   "display_name": "reu",
   "language": "python",
   "name": "reu"
  },
  "language_info": {
   "codemirror_mode": {
    "name": "ipython",
    "version": 3
   },
   "file_extension": ".py",
   "mimetype": "text/x-python",
   "name": "python",
   "nbconvert_exporter": "python",
   "pygments_lexer": "ipython3",
   "version": "3.13.4"
  }
 },
 "nbformat": 4,
 "nbformat_minor": 5
}
