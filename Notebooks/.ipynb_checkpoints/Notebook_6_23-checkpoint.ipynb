{
 "cells": [
  {
   "cell_type": "code",
   "execution_count": 1,
   "metadata": {},
   "outputs": [],
   "source": [
    "# Imports cell\n",
    "\n",
    "import numpy as np\n",
    "from prospectorFunctions import getSps# , getTheta\n",
    "import itertools\n",
    "from matplotlib.pyplot import *"
   ]
  },
  {
   "cell_type": "code",
   "execution_count": null,
   "metadata": {},
   "outputs": [],
   "source": [
    "# Original run_params\n",
    "\n",
    "run_params = {}\n",
    "run_params['snr'] = 10.0\n",
    "run_params['ldist'] = 10.0\n",
    "run_params['zred'] = 0.0\n",
    "run_params['logzsol'] = None\n",
    "run_params['add_duste'] = True\n",
    "run_params\n",
    "\n",
    "model = getModel(**run_params)\n",
    "model\n",
    "\n",
    "obs = getObs(**run_params)\n",
    "sps = getSps(**run_params)\n",
    "\n",
    "def getTheta(model_obj, obs_obj, sps_obj):\n",
    "    theta = model_obj.theta.copy()\n",
    "    init_spec, init_phot, init_mfrac = model_obj.sed(theta, obs=obs_obj, sps=sps_obj)\n",
    "    return init_spec, init_phot, init_mfrac\n",
    "\n",
    "spec, phot, mfrac = getTheta(model, obs, sps)\n",
    "\n",
    "obs"
   ]
  },
  {
   "cell_type": "code",
   "execution_count": null,
   "metadata": {},
   "outputs": [],
   "source": [
    "model.params.get('zred', 0.0)"
   ]
  },
  {
   "cell_type": "code",
   "execution_count": null,
   "metadata": {},
   "outputs": [],
   "source": [
    "wphot = obs['phot_wave']\n",
    "\n",
    "a = 1.0 +  model.params.get('zred', 0.0)\n",
    "\n",
    "wspec = sps.wavelengths * a\n",
    "\n",
    "figure(figsize=(16,8))\n",
    "\n",
    "loglog(wspec, spec)\n",
    "    \n",
    "scatter(wphot, phot)\n",
    "\n",
    "xmin, xmax = np.min(wphot)*0.8, np.max(wphot)/0.8\n",
    "temp = np.interp(np.linspace(xmin,xmax,10000), wspec, spec)\n",
    "ymin, ymax = temp.min()*0.8, temp.max()/0.4\n",
    "\n",
    "xlim([xmin,xmax])\n",
    "ylim([ymin,ymax])\n",
    "xscale('log')\n",
    "yscale('log')\n",
    "show()"
   ]
  },
  {
   "cell_type": "code",
   "execution_count": null,
   "metadata": {},
   "outputs": [],
   "source": [
    "# Setting all initial values for models\n",
    "\n",
    "mass = 1e8 # Just a scaling factor\n",
    "zred = 3.548 # Exact value of The Cliff\n",
    "\n",
    "tages = np.linspace(10, 13.6, 5)\n",
    "dusts = np.linspace(0,3,10)        # (0, 3) or (0, 4)\n",
    "metals = np.linspace(-1,.5,10)     # (-1.0, 0.5)\n",
    "\n",
    "run_params = {}\n",
    "run_params['mass'] = mass\n",
    "run_params['zred'] = zred\n",
    "\n",
    "run_params['tage'] = tages[0]\n",
    "run_params['dust2'] = dusts[0]\n",
    "run_params['logzsol'] = metals[0]\n",
    "\n",
    "run_params['ldist'] = 10.0\n",
    "run_params['add_duste'] = False\n",
    "run_params['snr'] = 10.0\n",
    "run_params['zcontinuous'] = 1"
   ]
  },
  {
   "cell_type": "code",
   "execution_count": 30,
   "metadata": {},
   "outputs": [
    {
     "data": {
      "text/plain": [
       "100000000.0"
      ]
     },
     "execution_count": 30,
     "metadata": {},
     "output_type": "execute_result"
    }
   ],
   "source": [
    "run_params['mass']"
   ]
  },
  {
   "cell_type": "code",
   "execution_count": null,
   "metadata": {},
   "outputs": [],
   "source": [
    "run_params"
   ]
  },
  {
   "cell_type": "code",
   "execution_count": 11,
   "metadata": {},
   "outputs": [],
   "source": [
    "def getModel(mass=None, zred=None, tage=None, logzsol=None, dust2=None, ldist=10.0, add_duste=False, **extras):\n",
    "    from prospect.models.sedmodel import SedModel\n",
    "    from prospect.models.templates import TemplateLibrary\n",
    "    from prospect.models import priors\n",
    "    \n",
    "    model_params = TemplateLibrary['parametric_sfh']\n",
    "    \n",
    "    # If necessary, this is the step where you would need to change the initial values for the parameters\n",
    "    model_params['lumdist'] = {'N':1, 'isfree':False, 'init':ldist, 'units':'Mpc'}\n",
    "    model_params['mass']['isfree'] = False\n",
    "    model_params['logzsol']['isfree'] = False\n",
    "    model_params['dust2']['isfree'] = False\n",
    "    model_params['tage']['isfree'] = False\n",
    "    model_params['tau']['isfree'] = False\n",
    "    \n",
    "    # Variable masses\n",
    "    if mass == None:\n",
    "        model_params['mass']['init'] = 1e8\n",
    "    else:\n",
    "        model_params['mass']['init'] = mass\n",
    "        \n",
    "    # Variable redshifts\n",
    "    if zred == None:\n",
    "        model_params['zred']['init'] = 0.0\n",
    "    else:\n",
    "        model_params['zred']['init'] = zred\n",
    "        \n",
    "    # Variable age of the galaxy\n",
    "    if tage == None:\n",
    "        model_params['tage']['init'] = 13.\n",
    "    else:\n",
    "        model_params['tage']['init'] = tage\n",
    "\n",
    "    # Variable metallicities\n",
    "    if logzsol == None:\n",
    "        model_params['logzsol']['init'] = -0.5\n",
    "    else:\n",
    "        model_params['logzsol']['init'] = logzsol\n",
    "\n",
    "    # Variable dust parameters\n",
    "    if dust2 == None:\n",
    "        model_params['dust2']['init'] = 0.05\n",
    "    else:\n",
    "        model_params['dust2']['init'] = dust2\n",
    "\n",
    "    model = SedModel(model_params)\n",
    "    \n",
    "    return model"
   ]
  },
  {
   "cell_type": "code",
   "execution_count": 12,
   "metadata": {},
   "outputs": [
    {
     "data": {
      "text/plain": [
       ":::::::\n",
       "<class 'prospect.models.sedmodel.SedModel'>\n",
       "\n",
       "Free Parameters: (name: prior) \n",
       "-----------\n",
       "  \n",
       "\n",
       "Fixed Parameters: (name: value [, depends_on]) \n",
       "-----------\n",
       "  zred: [0.] \n",
       "  mass: [1.e+08] \n",
       "  logzsol: [-0.5] \n",
       "  dust2: [0.05] \n",
       "  sfh: [4] \n",
       "  tage: [13.] \n",
       "  imf_type: [2] \n",
       "  dust_type: [0] \n",
       "  tau: [1] \n",
       "  lumdist: [10.] "
      ]
     },
     "execution_count": 12,
     "metadata": {},
     "output_type": "execute_result"
    }
   ],
   "source": [
    "model = getModel(**run_params)\n",
    "model"
   ]
  },
  {
   "cell_type": "code",
   "execution_count": 3,
   "metadata": {},
   "outputs": [],
   "source": [
    "def getObs(snr=10, ldist=10.0, **extras_):\n",
    "\n",
    "    from prospect.utils.obsutils import fix_obs\n",
    "    import sedpy\n",
    "    import numpy as np\n",
    "\n",
    "    # obs is a dictionary of observational data to use for the fit\n",
    "    obs = {}\n",
    "\n",
    "    filternames = ['jwst_f090w', 'jwst_f115w', 'jwst_f150w', 'jwst_f200w', 'jwst_f277w',\n",
    "                   'jwst_f356w', 'jwst_f410m', 'jwst_f444w', 'jwst_f770w', 'jwst_f1800w']\n",
    "    obs['filters'] = sedpy.observate.load_filters(filternames)\n",
    "\n",
    "    ################################################# FIX THE UNITS OF THIS DATA\n",
    "    M_AB = np.array([0.0148, 0.028, 0.0269, 0.322, 1.090, 1.334, 1.597, 1.725, 1.54, 1.96]) # These are currently in units of microJanskeys (fix)\n",
    "    ################################################# FIX THE UNITS OF THIS DATA\n",
    "\n",
    "    # jansky_to_maggie_factor = 3631.0\n",
    "\n",
    "    dm = 25 + 5.0 * np.log10(ldist)\n",
    "    mags = M_AB + dm\n",
    "\n",
    "    obs['maggies'] = 10**(-0.4*mags)\n",
    "    obs['maggies_unc'] = (1./snr) * obs['maggies']\n",
    "\n",
    "    obs['phot_wave'] = np.array([f.wave_effective for f in obs['filters']])\n",
    "\n",
    "    obs['wavelength'] = None\n",
    "    obs['spectrum'] = None\n",
    "    obs['unc'] = None\n",
    "    obs['mask'] = None\n",
    "\n",
    "    obs = fix_obs(obs)\n",
    "    \n",
    "    return obs"
   ]
  },
  {
   "cell_type": "code",
   "execution_count": null,
   "metadata": {},
   "outputs": [],
   "source": [
    "obs = getObs(**run_params)\n",
    "obs"
   ]
  },
  {
   "cell_type": "code",
   "execution_count": null,
   "metadata": {},
   "outputs": [],
   "source": [
    "from prospectorFunctions import getSps, getTheta\n",
    "sps = getSps(**run_params)\n",
    "sps"
   ]
  },
  {
   "cell_type": "code",
   "execution_count": null,
   "metadata": {},
   "outputs": [],
   "source": [
    "def getWave():\n",
    "    \n",
    "    wphot = obs['phot_wave']\n",
    "    \n",
    "    a = 1.0 + zred\n",
    "    \n",
    "    wspec = sps.wavelengths\n",
    "    wspec *= a\n",
    "    \n",
    "    waves = {'wphot':wphot, 'wspec':wspec}\n",
    "    \n",
    "    return obs['phot_wave'], wspec"
   ]
  },
  {
   "cell_type": "code",
   "execution_count": null,
   "metadata": {},
   "outputs": [],
   "source": [
    "wave = getWave()\n",
    "wave"
   ]
  },
  {
   "cell_type": "code",
   "execution_count": null,
   "metadata": {},
   "outputs": [],
   "source": [
    "init_spec, init_phot, init_mfrac = getTheta(model, obs, sps)\n",
    "{'init_spec':init_spec, 'init_phot':init_phot}"
   ]
  },
  {
   "cell_type": "code",
   "execution_count": null,
   "metadata": {},
   "outputs": [],
   "source": [
    "loglog(wave['wspec'], init_spec)\n",
    "scatter(wave['wphot'], init_phot)\n",
    "\n",
    "xmin, xmax = np.min(wave['wphot'])*0.8, np.max(wave['wphot'])/0.8\n",
    "temp = np.interp(np.linspace(xmin,xmax,10000), wave['wspec'], init_spec)\n",
    "ymin, ymax = temp.min()*0.8, temp.max()/0.4\n",
    "\n",
    "xlim([xmin,xmax])\n",
    "ylim([ymin,ymax])\n",
    "xscale('log')\n",
    "yscale('log')\n",
    "show()"
   ]
  },
  {
   "cell_type": "code",
   "execution_count": null,
   "metadata": {},
   "outputs": [],
   "source": []
  }
 ],
 "metadata": {
  "kernelspec": {
   "display_name": "reu",
   "language": "python",
   "name": "reu"
  },
  "language_info": {
   "codemirror_mode": {
    "name": "ipython",
    "version": 3
   },
   "file_extension": ".py",
   "mimetype": "text/x-python",
   "name": "python",
   "nbconvert_exporter": "python",
   "pygments_lexer": "ipython3",
   "version": "3.13.4"
  }
 },
 "nbformat": 4,
 "nbformat_minor": 2
}
