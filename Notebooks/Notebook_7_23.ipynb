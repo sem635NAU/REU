{
 "cells": [
  {
   "cell_type": "code",
   "execution_count": 1,
   "id": "4306579d-47ae-4819-bd08-5f2382d969c3",
   "metadata": {},
   "outputs": [],
   "source": [
    "import numpy as np"
   ]
  },
  {
   "cell_type": "code",
   "execution_count": 30,
   "id": "0e103c93-dbca-4232-b0f1-6ed7fb369996",
   "metadata": {},
   "outputs": [],
   "source": [
    "imfs = np.ones(5)"
   ]
  },
  {
   "cell_type": "code",
   "execution_count": 31,
   "id": "f698a0b9-5c15-4906-b74b-0b7e7fc9d49e",
   "metadata": {},
   "outputs": [],
   "source": [
    "def check_imf_priors(imfs):\n",
    "    imf_priors = np.zeros(len(imfs), dtype=bool)\n",
    "    \n",
    "    for ind,imf in enumerate(imfs):\n",
    "        if not -10.0 < imf < 10:\n",
    "            return False\n",
    "    return True"
   ]
  },
  {
   "cell_type": "code",
   "execution_count": 32,
   "id": "babbcea6-3928-4883-955a-11f71647d963",
   "metadata": {},
   "outputs": [
    {
     "data": {
      "text/plain": [
       "True"
      ]
     },
     "execution_count": 32,
     "metadata": {},
     "output_type": "execute_result"
    }
   ],
   "source": [
    "check_imf_priors(imfs)"
   ]
  },
  {
   "cell_type": "code",
   "execution_count": null,
   "id": "11ff348d-6661-4d85-9f56-7c2d4005d08f",
   "metadata": {},
   "outputs": [],
   "source": []
  },
  {
   "cell_type": "code",
   "execution_count": null,
   "id": "a4ae4be7-ee4d-4791-841b-e093e9fd1bba",
   "metadata": {},
   "outputs": [],
   "source": []
  },
  {
   "cell_type": "code",
   "execution_count": null,
   "id": "edd456f6-d9a0-416e-be8b-c44d0f6381cf",
   "metadata": {},
   "outputs": [],
   "source": []
  },
  {
   "cell_type": "markdown",
   "id": "5025d696-da9e-4ffb-8143-73317348e4aa",
   "metadata": {},
   "source": [
    "#### Fix the getParams function to work specifically for running IMFs"
   ]
  },
  {
   "cell_type": "code",
   "execution_count": null,
   "id": "ce2f8f17-6074-4ae3-a5df-d9a1be8ed47c",
   "metadata": {},
   "outputs": [],
   "source": []
  },
  {
   "cell_type": "code",
   "execution_count": 38,
   "id": "57741811-379b-41e6-b9e6-809c321e774f",
   "metadata": {},
   "outputs": [],
   "source": [
    "def get_fixed_params():\n",
    "    maxi_fixed_params = {'zred': 3.548,\n",
    "                         'mass': 1e8,\n",
    "                         'logzsol': 0.0,\n",
    "                         'dust2': 0.0,\n",
    "                         'dust_type': 0}\n",
    "\n",
    "    maxi_sfh_params = {'sfh': 1,\n",
    "                       'tau': 0.05,\n",
    "                       'tage': 1.0,\n",
    "                       'fburst': 0.0,\n",
    "                       'fage_burst': 0.0,\n",
    "                       'tburst': 0.0,\n",
    "                       'const': 0.0,\n",
    "                       'sf_start': 0.0,\n",
    "                       'sf_trunc': 0.0}\n",
    "\n",
    "    \n",
    "    params = {\n",
    "              'imf_type': 5,\n",
    "        \n",
    "    return params\n",
    "\n",
    "def init_prospect_generation():\n",
    "    params = get_fixed_params()\n",
    "    sps, wspec = getSps()\n",
    "    obs = getObs()\n",
    "\n",
    "    return params, obs, sps, wspec"
   ]
  },
  {
   "cell_type": "markdown",
   "id": "9ddcc2b0-489e-4646-803b-1ae4c77fa775",
   "metadata": {},
   "source": [
    "#### Fix the getModel function to work specifically for running IMFs"
   ]
  },
  {
   "cell_type": "code",
   "execution_count": 37,
   "id": "49cfb5e6-c03b-4eee-9397-9f4812a495ad",
   "metadata": {},
   "outputs": [],
   "source": [
    "def getModelIMF(**extras):\n",
    "    from prospect.models import SpecModel\n",
    "    from prospect.models.templates import TemplateLibrary\n",
    "\n",
    "    params = TemplateLibrary['parametric_sfh']\n",
    "\n",
    "    for key in list(params.keys()):\n",
    "        params[key]['init'] = extras[key]\n",
    "\n",
    "    model = SpecModel(params)\n",
    "\n",
    "    return params, model"
   ]
  },
  {
   "cell_type": "code",
   "execution_count": null,
   "id": "14375225-a236-41ed-b8ff-cd92082301e3",
   "metadata": {},
   "outputs": [],
   "source": [
    "def getModelSFH(add_burst=False, add_trunc=False, **extras):\n",
    "\n",
    "    from prospect.models import SpecModel\n",
    "    from prospect.models.templates import TemplateLibrary\n",
    "\n",
    "    model_params = TemplateLibrary['parametric_sfh']\n",
    "\n",
    "    if add_burst:\n",
    "        model_params.update(TemplateLibrary['burst_sfh'])\n",
    "        model_params['const'] = {'N': 1, 'isfree': False, 'init': 0.0, 'units': 'Solar Masses per year'}\n",
    "        if add_trunc:\n",
    "            model_params['sf_start'] = {'N': 1, 'isfree': False, 'init': 0.0, 'units': 'Gyrs'}\n",
    "            model_params['sf_trunc'] = {'N': 1, 'isfree': False, 'init': 0.0, 'units': 'Gyrs'}\n",
    "\n",
    "    for key in list(model_params.keys()):\n",
    "        model_params[key]['init'] = extras[key]\n",
    "\n",
    "    model = SpecModel(model_params)\n",
    "    \n",
    "    return model"
   ]
  },
  {
   "cell_type": "code",
   "execution_count": null,
   "id": "27cd3130-5add-4667-9021-55edc9fd7ab8",
   "metadata": {},
   "outputs": [],
   "source": []
  },
  {
   "cell_type": "code",
   "execution_count": null,
   "id": "35bbf156-7391-4d3c-976c-c1061cee63cf",
   "metadata": {},
   "outputs": [],
   "source": []
  },
  {
   "cell_type": "code",
   "execution_count": 34,
   "id": "e116b18d-c30f-450b-a925-bc6de7b41c30",
   "metadata": {},
   "outputs": [],
   "source": [
    "from matplotlib.pyplot import *\n",
    "import numpy as np\n",
    "\n",
    "import sys\n",
    "sys.path.append('/home/samantha/Documents/REU/scripts/') # Use the absolute path to the directory\n",
    "from prospectFunctionsIMF import *\n",
    "\n",
    "# from prospectFunctions import getObs, getWave, getParams, getModel, getSps\n",
    "# import itertools\n",
    "# import astropy.units as u\n",
    "# import astropy.constants as const\n",
    "# import time\n",
    "# from tqdm import tqdm"
   ]
  },
  {
   "cell_type": "code",
   "execution_count": null,
   "id": "3404fb65-34e3-4fe8-9fd3-00f3da479577",
   "metadata": {},
   "outputs": [],
   "source": [
    "imf_type = 5 # Tabulated piece-wise power-law IMF\n",
    "\n",
    "# imf_types = ['Salpeter (1955)', 'Chabrier (2003)', 'Kroupa (2001)', 'van Dokkum (2008)', 'Dave (2008)']\n",
    "\n",
    "grid_ranges, run_params = getParams(imf_type=imf_type, len_logz=100, len_dust=6, len_tage=100, dust=True)\n",
    "a = 1.0 + run_params['zred']\n",
    "\n",
    "logzs = grid_ranges['logzsol']\n",
    "dusts = grid_ranges['dust2']\n",
    "tages = grid_ranges['tage']\n",
    "\n",
    "num_models = len(logzs)*len(dusts)*len(tages)\n",
    "\n",
    "obs = getObs(**run_params)\n",
    "sps = getSps(**run_params)\n",
    "wspec, wphot = getWave(obs=obs, sps=sps, **run_params)"
   ]
  },
  {
   "cell_type": "code",
   "execution_count": null,
   "id": "e8db4711-67e9-429d-aadb-f6c0af526912",
   "metadata": {},
   "outputs": [],
   "source": [
    "specs = []\n",
    "\n",
    "run_params['imf_type'] = imf_type\n",
    "run_params['logzsol'] = logzs[0]\n",
    "run_params['dust2'] = dusts[0]\n",
    "run_params['tage'] = tages[0]\n",
    "\n",
    "test_imfs = ['0.08 0.50 1.3\\n0.50 1.00 2.3\\n1.00 120. 2.3\\n',\n",
    "             '0.008 0.50 1.3\\n0.50 1.00 2.3\\n1.00 120. 2.3\\n',\n",
    "             '0.08 0.50 1.3\\n0.50 1.00 2.3\\n1.00 300. 2.3\\n',\n",
    "             '0.008 0.50 1.3\\n0.50 1.00 2.3\\n1.00 300. 2.3\\n']\n",
    "\n",
    "for test in tqdm(test_imfs):\n",
    "    with open('/home/samantha/fsps/data/imf.dat', 'w') as f:\n",
    "        f.write(test) # <- content ^\n",
    "\n",
    "    with open('/home/samantha/fsps/data/imf.dat', 'r') as f:\n",
    "        content = f.read()\n",
    "        print(content)\n",
    "        print()\n",
    "\n",
    "    sps = getSps(**run_params)\n",
    "\n",
    "    model = getModel(**run_params)\n",
    "    init_spec, init_phot, init_mfrac = model.predict(model.theta, obs=obs, sps=sps)\n",
    "\n",
    "    specs.append(init_spec)"
   ]
  }
 ],
 "metadata": {
  "kernelspec": {
   "display_name": "reu",
   "language": "python",
   "name": "reu"
  },
  "language_info": {
   "codemirror_mode": {
    "name": "ipython",
    "version": 3
   },
   "file_extension": ".py",
   "mimetype": "text/x-python",
   "name": "python",
   "nbconvert_exporter": "python",
   "pygments_lexer": "ipython3",
   "version": "3.13.4"
  }
 },
 "nbformat": 4,
 "nbformat_minor": 5
}
