{
 "cells": [
  {
   "cell_type": "code",
   "execution_count": 46,
   "id": "0de0296f-5359-43ea-9dad-06fa9f47a672",
   "metadata": {},
   "outputs": [],
   "source": [
    "import numpy as np\n",
    "from prospect.models.templates import TemplateLibrary\n",
    "from prospect.models.transforms import tburst_from_fage\n",
    "from astropy.cosmology import Planck13\n",
    "\n",
    "from argparse import Namespace\n",
    "from scipy.special import gamma, gammainc"
   ]
  },
  {
   "cell_type": "code",
   "execution_count": 34,
   "id": "1bf917d4-e394-4c46-954a-6dc808d9510f",
   "metadata": {},
   "outputs": [
    {
     "data": {
      "text/plain": [
       "array([ 0.        ,  5.19203003,  7.93312573,  9.51795323, 10.51184098])"
      ]
     },
     "execution_count": 34,
     "metadata": {},
     "output_type": "execute_result"
    }
   ],
   "source": [
    "zreds = np.linspace(0,2,5)\n",
    "# for z in zreds:\n",
    "#     print(Planck13.lookback_time(z))\n",
    "times = np.array([Planck13.lookback_time(z).value for z in zreds])\n",
    "times"
   ]
  },
  {
   "cell_type": "code",
   "execution_count": 36,
   "id": "179f40d1-ea9e-4552-ae32-759edb677849",
   "metadata": {},
   "outputs": [],
   "source": [
    "def parametric_sfr(times=None, tavg=1e-3, tage=1, **sfh):\n",
    "    \"\"\"Return the SFR (Msun/yr) for the given parameters of a parametric SFH,\n",
    "    optionally averaging over some timescale.\n",
    "\n",
    "    :param times: (optional, ndarray)\n",
    "        If given, a set of ***lookback*** times where you want to calculate the sfr,\n",
    "        same units as `tau` and `tage`\n",
    "\n",
    "    :param tavg: (optional, float, default: 1e-3)\n",
    "        If non-zero, average the SFR over the last `tavg` Gyr. This can help\n",
    "        capture bursts.  If zero, the instantaneous SFR will be returned.\n",
    "\n",
    "    :param sfh: optional keywords\n",
    "        FSPS parametric SFH parametrs, e.g. sfh, tage, tau, sf_trunc\n",
    "\n",
    "    :returns sfr:\n",
    "        SFR in M_sun/year either for the lookback times given by `times` or at\n",
    "        lookback time 0 if no times are given.  The SFR will either be\n",
    "        instaneous or averaged over the last `tavg` Gyr.\n",
    "    \"\"\"\n",
    "    if times is None:\n",
    "        times = np.array(tage)\n",
    "\n",
    "    pset = parametric_pset(tage=tage, **sfh)\n",
    "    sfr, mass = compute_mass_formed(tage - times, pset)\n",
    "    if tavg > 0:\n",
    "        _, meps = compute_mass_formed((tage - times) - tavg, pset)\n",
    "        sfr = (mass - meps) / (tavg * 1e9)\n",
    "    return sfr"
   ]
  },
  {
   "cell_type": "code",
   "execution_count": 40,
   "id": "351ed01b-0914-4e4e-981e-0c5f96df6a41",
   "metadata": {},
   "outputs": [
    {
     "data": {
      "text/plain": [
       "dict_keys(['zred', 'mass', 'logzsol', 'dust2', 'sfh', 'tage', 'imf_type', 'dust_type', 'tau', 'tburst', 'fburst', 'fage_burst'])"
      ]
     },
     "execution_count": 40,
     "metadata": {},
     "output_type": "execute_result"
    }
   ],
   "source": [
    "model_params = TemplateLibrary['parametric_sfh']\n",
    "model_params.update(TemplateLibrary['burst_sfh'])\n",
    "model_params.keys()"
   ]
  },
  {
   "cell_type": "code",
   "execution_count": 66,
   "id": "e998cc6b-8cc7-4c30-ac74-c87cca24b25f",
   "metadata": {},
   "outputs": [
    {
     "name": "stdout",
     "output_type": "stream",
     "text": [
      "Namespace(mass=array([1.e+08]), sfh=1, sf_start=array([0]), tage=array([0.3]), tau=array([1.]), const=array([0.3]), fburst=array([0.7]), tburst=array([0.075]), sf_trunc=array([0]), sf_slope=array([0.]))\n"
     ]
    }
   ],
   "source": [
    "run_params = {}\n",
    "run_params['zred'] = 3.548\n",
    "run_params['mass'] = 1e8\n",
    "run_params['logzsol'] = 0.0 # Solar metallicity\n",
    "run_params['dust2'] = 0.0\n",
    "run_params['sfh'] = 1 # tau model plus a constant component and a burst\n",
    "run_params['tage'] = 0.3 # The age of the host (galaxy) in Gyrs\n",
    "run_params['imf_type'] = 2 # (Kroupa 2001)\n",
    "run_params['tau'] = 1.0 # The e-folding time for the SFH, range is 1e-1 to 1e2\n",
    "# run_params['tburst']\n",
    "run_params['fburst'] = 0.7 # The fraction of mass formed in an instantaneous burst of star formation\n",
    "run_params['fage_burst'] = 0.25 # The fraction of the host age at which the burst occurred.\n",
    "run_params['tburst'] = tburst_from_fage(**run_params) # The age of the universe (age of the host) when the burst occurred\n",
    "\n",
    "run_params['const'] =  1.0 - run_params['fburst']\n",
    "\n",
    "# run_params['sf_start'] = 0.0 # Start time of the SFH in Gyrs\n",
    "# run_params['sf_trunc'] = 0.0 # Trunctation time of the SFH in Gyrs. 0.0 => no trunctation\n",
    "# run_params['sf_slope'] # For sfh=5, this is the slope of the SFR *after* time sf_trunc\n",
    "\n",
    "run_params\n",
    "\n",
    "print(parametric_sfr(**run_params))"
   ]
  },
  {
   "cell_type": "code",
   "execution_count": null,
   "id": "7ef92cf8-6f57-4101-bd52-5eebb029186c",
   "metadata": {},
   "outputs": [],
   "source": []
  },
  {
   "cell_type": "code",
   "execution_count": null,
   "id": "5a689f99-f25a-4cf6-8377-753576527575",
   "metadata": {},
   "outputs": [],
   "source": []
  },
  {
   "cell_type": "code",
   "execution_count": null,
   "id": "00ce598c-c8ff-40b2-a9fe-12104c74e1d8",
   "metadata": {},
   "outputs": [],
   "source": []
  },
  {
   "cell_type": "code",
   "execution_count": null,
   "id": "12dc4b59-fe32-4568-bd95-b8c8894edff5",
   "metadata": {},
   "outputs": [],
   "source": []
  },
  {
   "cell_type": "code",
   "execution_count": 9,
   "id": "41bc6bb4-5866-4e74-8ba0-ffd9bf0f4f2e",
   "metadata": {},
   "outputs": [],
   "source": [
    "def compute_mass_formed(times, pset):\n",
    "    \"\"\"Compute the SFR and stellar mass formed in a parametric SFH,\n",
    "    as a function of (forward) time.\n",
    "\n",
    "    The linear portion of the Simha SFH (sfh=5) is defined as:\n",
    "        psi(t) = psi_trunc + psi_trunc * sf_slope * (t - sf_trunc)\n",
    "    where psi_trunc is the SFR of the delay-tau SFH at time sf_trunc\n",
    "\n",
    "    :param times: ndarray of shape (nt,)\n",
    "        Forward time in Gyr. Use times = pset.tage - t_lookback to\n",
    "        convert from lookback times\n",
    "\n",
    "    :param pset: Namespace instance\n",
    "        The FSPS SFH parameters, assumed to be scalar or 1 element 1-d arrays.\n",
    "        Usually the output of parametric_pset()\n",
    "\n",
    "    :returns sfr: ndarray of shape (nt,)\n",
    "        The instaneous SFR in M_sun/yr at each of `times`\n",
    "\n",
    "    :returns mfromed: ndarray of shape (nt,)\n",
    "        The total stellar mass formed from t=0 to `times`, in unist of M_sun\n",
    "    \"\"\"\n",
    "    # TODO: use broadcasting to deal with multiple sfhs?\n",
    "\n",
    "    # subtract sf_start\n",
    "    tmass = pset.tage - pset.sf_start  # the age at which the mass is *specified*\n",
    "    tprime = times - pset.sf_start     # the ages at which sfr and formed mass are requested\n",
    "\n",
    "    if pset.sfh == 3:\n",
    "        raise NotImplementedError(\"This method does not support tabular SFH\")\n",
    "\n",
    "    if np.any(tmass < 0):\n",
    "        raise ValueError(\"SF never started (tage - sf_start < 0) for at least one input\")\n",
    "\n",
    "    if (pset.const + pset.fburst) > 1:\n",
    "        raise ValueError(\"Constant and burst fractions combine to be > 1\")\n",
    "\n",
    "    if (pset.sfh == 0):\n",
    "        # SSPs\n",
    "        mfrac = 1.0 * (tprime > tmass)\n",
    "        sfr = np.zeros_like(tprime)  # actually the sfr is infinity\n",
    "\n",
    "    elif pset.sfh > 0:\n",
    "        # Compute tau model component, for SFH=1,4,5\n",
    "        #\n",
    "        # Integration limits are from 0 to tmax and 0 to tprime, where\n",
    "        #   - tmass is the tage, and\n",
    "        #   - tprime is the given `time`,\n",
    "        #   - ttrunc is where the delay-tau truncates\n",
    "        ttrunc, tend = np.max(tprime), tmass\n",
    "        if (pset.sf_trunc > 0) and (pset.sf_trunc > pset.sf_start):\n",
    "            # Otherwise we integrate tau model to sf_trunc - sf_start\n",
    "            ttrunc = pset.sf_trunc - pset.sf_start\n",
    "            tend = min(tmass, ttrunc)\n",
    "\n",
    "        # Now integrate to get mass formed by Tprime and by Tmax, dealing with\n",
    "        # truncation that happens after sf_start but before Tmax and/or Tprime.\n",
    "        power = 1 + int(pset.sfh > 3)\n",
    "        total_mass_tau = pset.tau * gammainc(power, tend / pset.tau)\n",
    "\n",
    "        tt = np.clip(tprime, 0, ttrunc)\n",
    "        mass_tau = (tprime > 0.) * pset.tau * gammainc(power, tt / pset.tau)\n",
    "        # The SFR at Tprime (unnormalized)\n",
    "        sfr_tau = (tprime > 0.) * (tprime <= ttrunc) * (tprime / pset.tau)**(power-1.) * np.exp(-tprime / pset.tau)\n",
    "        # fraction of tau component mass formed by tprime\n",
    "        mfrac_tau = mass_tau / total_mass_tau\n",
    "\n",
    "    # Add the constant and burst portions, for SFH=1,4.\n",
    "    if ((pset.sfh == 1) or (pset.sfh == 4)):\n",
    "        # Fraction of the burst mass formed by Tprime\n",
    "        tburst = (pset.tburst - pset.sf_start)\n",
    "        mfrac_burst = 1.0 * (tprime > tburst)\n",
    "        # SFR from constant portion at Tprime (integrates to 1 at tmax)\n",
    "        sfr_const = (tprime > 0) * 1.0 / tmass\n",
    "        # fraction of constant mass formed by tprime\n",
    "        mfrac_const = np.clip(tprime, 0, ttrunc) * sfr_const\n",
    "\n",
    "        # Add formed mass fractions for each component, weighted by component fractions.\n",
    "        # Fraction of the constant mass formed by Tprime is just Tprime/Tmax\n",
    "        # TODO : The FSPS source does not include the tburst < tmass logic....\n",
    "        mfrac = ((1. - pset.const - pset.fburst * (tburst < tmass)) * mfrac_tau +\n",
    "                 pset.const * mfrac_const +\n",
    "                 pset.fburst * mfrac_burst)\n",
    "\n",
    "        # N.B. for Tprime = tburst, sfr is infinite, but we ignore that case.\n",
    "        sfr = ((1. - pset.const - pset.fburst) * sfr_tau / total_mass_tau + pset.const * sfr_const)\n",
    "        # We've truncated\n",
    "        sfr *= (tprime <= ttrunc)\n",
    "\n",
    "    # Add the linear portion, for Simha, SFH=5.\n",
    "    # This is the integral of sfr_trunc*(1 - m * (T - Ttrunc)) from Ttrunc to Tz\n",
    "    elif (pset.sfh == 5):\n",
    "        #raise NotImplementedError\n",
    "\n",
    "        m = -pset.sf_slope\n",
    "        if (m > 0):\n",
    "            # find time at which SFR=0, if m>0\n",
    "            Tz = ttrunc + 1.0 / m\n",
    "        else:\n",
    "            # m <= 0 will never reach SFR=0\n",
    "            Tz = np.max(tprime)\n",
    "\n",
    "        # Logic for Linear portion\n",
    "        if (ttrunc < 0):\n",
    "            # Truncation does not occur during the SFH.\n",
    "            total_mass_linear = 0.\n",
    "            mass_linear = 0.\n",
    "            sfr = sfr_tau / total_mass_tau\n",
    "        else:\n",
    "            # Truncation does occur, integrate linear to zero crossing or tage.\n",
    "            Thi = min(Tz, tmass)\n",
    "            sfr_trunc = (ttrunc/pset.tau) * np.exp(-ttrunc / pset.tau)\n",
    "            total_mass_linear = (Thi > ttrunc) * sfr_trunc * linear_mass(Thi, ttrunc, m)\n",
    "            mass_linear = (tprime > ttrunc) * sfr_trunc * linear_mass(tprime, ttrunc, m)\n",
    "            mass_linear[tprime > Tz] = sfr_trunc * linear_mass(Tz, ttrunc, m)\n",
    "            # SFR in linear portion\n",
    "            sfr = sfr_trunc * (1 - m * (tprime - ttrunc)) / (total_mass_tau + total_mass_linear)\n",
    "            sfr *= ((tprime > ttrunc) & (tprime <= Tz))\n",
    "            # add portion for tau\n",
    "            sfr[tprime <= ttrunc] = sfr_tau[tprime <= ttrunc] / (total_mass_tau + total_mass_linear)\n",
    "\n",
    "        mfrac = (mass_tau + mass_linear) / (total_mass_tau + total_mass_linear)\n",
    "\n",
    "    return pset.mass * sfr/1e9, pset.mass * mfrac"
   ]
  },
  {
   "cell_type": "code",
   "execution_count": null,
   "id": "5a1ae78c-b93a-45a3-9d25-87234a92bc0e",
   "metadata": {},
   "outputs": [],
   "source": []
  },
  {
   "cell_type": "code",
   "execution_count": 41,
   "id": "8641bd76-99ec-4708-b4d6-1dd75dd2346b",
   "metadata": {},
   "outputs": [],
   "source": [
    "def tburst_from_fage(tage=0.0, fage_burst=0.0, **extras):\n",
    "    \"\"\"This function transfroms from a fractional age of a burst to an absolute\n",
    "    age.  With this transformation one can sample in ``fage_burst`` without\n",
    "    worry about the case ``tburst`` > ``tage``.\n",
    "\n",
    "    Parameters\n",
    "    ----------\n",
    "    tage : float, Gyr\n",
    "        The age of the host galaxy.\n",
    "\n",
    "    fage_burst : float between 0 and 1\n",
    "        The fraction of the host age at which the burst occurred.\n",
    "\n",
    "    Returns\n",
    "    -------\n",
    "    tburst : float, Gyr\n",
    "        The age of the host when the burst occurred (i.e. the FSPS ``tburst``\n",
    "        parameter)\n",
    "    \"\"\"\n",
    "    return tage * fage_burst"
   ]
  },
  {
   "cell_type": "code",
   "execution_count": 45,
   "id": "1e93189f-3902-4d65-9b7c-6c32b277e048",
   "metadata": {},
   "outputs": [
    {
     "data": {
      "text/plain": [
       "2.4000000000000004"
      ]
     },
     "execution_count": 45,
     "metadata": {},
     "output_type": "execute_result"
    }
   ],
   "source": [
    "tburst_from_fage(tage=12.0, fage_burst=.2)"
   ]
  },
  {
   "cell_type": "code",
   "execution_count": 8,
   "id": "06b5e9bd-a94e-41d7-a130-fbad980a3d52",
   "metadata": {},
   "outputs": [],
   "source": [
    "def parametric_pset(logmass=None, **sfh):\n",
    "    \"\"\"Convert a dicionary of FSPS parametric SFH parameters into a\n",
    "    namespace, making sure they are at least 1d vectors\n",
    "\n",
    "    :param sfh: dicionary\n",
    "        FSPS parameteric SFH parameters\n",
    "\n",
    "    :returns pset:\n",
    "        A Namespace instance with attributes giving the SFH parameters\n",
    "    \"\"\"\n",
    "    # TODO: make multiple psets if any of the SFH parameters have np.size() > 1\n",
    "\n",
    "    vectors = [\"mass\", \"sf_start\", \"tage\", \"tau\", \"const\", \"fburst\", \"tburst\", \"sf_trunc\", \"sf_slope\"]\n",
    "    pset = Namespace(mass=1.0, sfh=4., sf_start=0, tage=1,\n",
    "                     tau=1.,\n",
    "                     const=0.,\n",
    "                     fburst=0., tburst=1.,\n",
    "                     sf_trunc=0, sf_slope=0.)\n",
    "\n",
    "    if logmass:\n",
    "        sfh[\"mass\"] = 10**logmass\n",
    "    for k in vars(pset).keys():\n",
    "        if k in sfh:\n",
    "            setattr(pset, k, sfh[k])\n",
    "    # vectorize\n",
    "    for k in vectors:\n",
    "        setattr(pset, k, np.atleast_1d(getattr(pset, k)))\n",
    "\n",
    "    return pset"
   ]
  },
  {
   "cell_type": "code",
   "execution_count": null,
   "id": "6eba7e93-47af-4c2c-8ae1-13b162e5e331",
   "metadata": {},
   "outputs": [],
   "source": []
  }
 ],
 "metadata": {
  "kernelspec": {
   "display_name": "reu",
   "language": "python",
   "name": "reu"
  },
  "language_info": {
   "codemirror_mode": {
    "name": "ipython",
    "version": 3
   },
   "file_extension": ".py",
   "mimetype": "text/x-python",
   "name": "python",
   "nbconvert_exporter": "python",
   "pygments_lexer": "ipython3",
   "version": "3.13.4"
  }
 },
 "nbformat": 4,
 "nbformat_minor": 5
}
