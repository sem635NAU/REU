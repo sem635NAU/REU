{
 "cells": [
  {
   "cell_type": "code",
   "execution_count": 3,
   "id": "21d492eb-1f6c-47ce-9e08-2c17aa2c3bb7",
   "metadata": {},
   "outputs": [],
   "source": [
    "import sys\n",
    "sys.path.append('/home/samantha/Documents/REU/scripts/') # Use the absolute path to the directory\n",
    "from prospectFunctionsSFH import *\n",
    "\n",
    "import numpy as np\n",
    "# from matplotlib.pyplot import *\n",
    "# import emcee\n",
    "# import corner"
   ]
  },
  {
   "cell_type": "code",
   "execution_count": 2,
   "id": "44877237-9e9e-4963-b76e-1888b4192301",
   "metadata": {},
   "outputs": [],
   "source": [
    "params, obs, sps, wspec = init_prospect_generation()"
   ]
  },
  {
   "cell_type": "code",
   "execution_count": 1,
   "id": "cd32b81c-2bb4-46e5-9acd-91ac344577dc",
   "metadata": {},
   "outputs": [
    {
     "data": {
      "text/plain": [
       "'/home/samantha/Documents/REU/Notebooks'"
      ]
     },
     "execution_count": 1,
     "metadata": {},
     "output_type": "execute_result"
    }
   ],
   "source": [
    "%pwd"
   ]
  },
  {
   "cell_type": "code",
   "execution_count": 4,
   "id": "b41e602a-3d20-442d-99e0-2946f569c9bf",
   "metadata": {},
   "outputs": [],
   "source": [
    "data_params = np.load('/home/samantha/Documents/REU/npys/params_imf_2_60000.npy')\n",
    "data_breaks = np.load('/home/samantha/Documents/REU/npys/breaks_Anna_imf_2_60000.npy')\n",
    "\n",
    "\n",
    "\n",
    "# Find the max value of the balmer break that I found originally (logzsol, tage dust2=0)"
   ]
  },
  {
   "cell_type": "code",
   "execution_count": 5,
   "id": "4669b2f2-c5de-4526-86a3-e30b80c33afe",
   "metadata": {},
   "outputs": [
    {
     "data": {
      "text/plain": [
       "np.float64(4.53460973813953)"
      ]
     },
     "execution_count": 5,
     "metadata": {},
     "output_type": "execute_result"
    }
   ],
   "source": [
    "np.max(data_breaks)"
   ]
  },
  {
   "cell_type": "code",
   "execution_count": 6,
   "id": "fdf3ccd4-725e-429c-9a36-a2f2136a2358",
   "metadata": {},
   "outputs": [
    {
     "data": {
      "text/plain": [
       "(100, 6, 100, 1)"
      ]
     },
     "execution_count": 6,
     "metadata": {},
     "output_type": "execute_result"
    }
   ],
   "source": [
    "data_breaks.shape"
   ]
  },
  {
   "cell_type": "code",
   "execution_count": 11,
   "id": "de6d9cfb-6f37-4839-aba1-e9d037f46c2d",
   "metadata": {},
   "outputs": [
    {
     "data": {
      "text/plain": [
       "array([[0., 0., 0., ..., 0., 0., 0.],\n",
       "       [0., 0., 0., ..., 0., 0., 0.],\n",
       "       [0., 0., 0., ..., 0., 0., 0.],\n",
       "       ...,\n",
       "       [0., 0., 0., ..., 0., 0., 0.],\n",
       "       [0., 0., 0., ..., 0., 0., 0.],\n",
       "       [0., 0., 0., ..., 0., 0., 0.]], shape=(100, 100))"
      ]
     },
     "execution_count": 11,
     "metadata": {},
     "output_type": "execute_result"
    }
   ],
   "source": [
    "data_params[:,0,:,3]"
   ]
  },
  {
   "cell_type": "code",
   "execution_count": 13,
   "id": "fd07c521-d8da-408f-8c91-188615db7ad2",
   "metadata": {},
   "outputs": [
    {
     "data": {
      "text/plain": [
       "np.float64(2.925722186481538)"
      ]
     },
     "execution_count": 13,
     "metadata": {},
     "output_type": "execute_result"
    }
   ],
   "source": [
    "np.max(data_breaks[:,0,:,:])"
   ]
  },
  {
   "cell_type": "code",
   "execution_count": 16,
   "id": "88894fc3-50e4-4302-8142-b83a06c624ca",
   "metadata": {},
   "outputs": [
    {
     "name": "stdout",
     "output_type": "stream",
     "text": [
      "The maximum value is at index: (np.int64(99), np.int64(42), np.int64(0))\n",
      "The maximum value itself is: 2.925722186481538\n"
     ]
    }
   ],
   "source": [
    "import numpy as np\n",
    "\n",
    "# Create a 4-dimensional array\n",
    "arr_4d = data_breaks[:,0,:,:] # Example: a 2x3x4x5 array with random values\n",
    "\n",
    "# Find the index of the maximum value in the flattened array\n",
    "flat_index = np.argmax(arr_4d)\n",
    "\n",
    "# Convert the flattened index to a multi-dimensional index\n",
    "multi_dim_index = np.unravel_index(flat_index, arr_4d.shape)\n",
    "\n",
    "# print(f\"The 4D array:\\n{arr_4d}\")\n",
    "print(f\"The maximum value is at index: {multi_dim_index}\")\n",
    "print(f\"The maximum value itself is: {arr_4d[multi_dim_index]}\")"
   ]
  },
  {
   "cell_type": "code",
   "execution_count": 22,
   "id": "05ee9e51-4f3c-467f-9406-4bdc34e8b647",
   "metadata": {},
   "outputs": [
    {
     "data": {
      "text/plain": [
       "array([3.54800000e+00, 1.00000000e+08, 5.00000000e-01, 0.00000000e+00,\n",
       "       3.56411837e-01])"
      ]
     },
     "execution_count": 22,
     "metadata": {},
     "output_type": "execute_result"
    }
   ],
   "source": [
    "data_params[99,0,42,:]"
   ]
  },
  {
   "cell_type": "code",
   "execution_count": null,
   "id": "be25807c-a688-495f-a2b0-155da2f31218",
   "metadata": {},
   "outputs": [],
   "source": [
    "5.00000000e-01, 3.56411837e-01\n",
    "logzsol=0.5, tage=0.356"
   ]
  },
  {
   "cell_type": "code",
   "execution_count": 23,
   "id": "f8dcbad0-d6f1-4150-a2cf-c3cb6c23943b",
   "metadata": {},
   "outputs": [
    {
     "data": {
      "text/plain": [
       "0.38092600000000004"
      ]
     },
     "execution_count": 23,
     "metadata": {},
     "output_type": "execute_result"
    }
   ],
   "source": [
    ".4186 * .91"
   ]
  },
  {
   "cell_type": "code",
   "execution_count": 29,
   "id": "74f6c08a-03ca-4f6a-8a0f-02d7abe10c87",
   "metadata": {},
   "outputs": [
    {
     "data": {
      "text/plain": [
       "np.float64(0.0)"
      ]
     },
     "execution_count": 29,
     "metadata": {},
     "output_type": "execute_result"
    }
   ],
   "source": [
    "data_params[66,0,0,2]"
   ]
  },
  {
   "cell_type": "code",
   "execution_count": 35,
   "id": "67165765-abce-44eb-9626-241b701a87be",
   "metadata": {},
   "outputs": [
    {
     "data": {
      "text/plain": [
       "np.float64(2.897992525776002)"
      ]
     },
     "execution_count": 35,
     "metadata": {},
     "output_type": "execute_result"
    }
   ],
   "source": [
    "data_params[66,0,:,:]\n",
    "np.max(data_breaks[66,0,:,:])"
   ]
  },
  {
   "cell_type": "code",
   "execution_count": null,
   "id": "63745016-c79e-4240-9a6e-1e3987aeb1d2",
   "metadata": {},
   "outputs": [],
   "source": []
  }
 ],
 "metadata": {
  "kernelspec": {
   "display_name": "reu",
   "language": "python",
   "name": "reu"
  },
  "language_info": {
   "codemirror_mode": {
    "name": "ipython",
    "version": 3
   },
   "file_extension": ".py",
   "mimetype": "text/x-python",
   "name": "python",
   "nbconvert_exporter": "python",
   "pygments_lexer": "ipython3",
   "version": "3.13.4"
  }
 },
 "nbformat": 4,
 "nbformat_minor": 5
}
