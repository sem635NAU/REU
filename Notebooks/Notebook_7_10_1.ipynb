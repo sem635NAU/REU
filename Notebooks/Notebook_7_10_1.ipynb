{
 "cells": [
  {
   "cell_type": "code",
   "execution_count": 1,
   "id": "6b239295-f119-444f-b38a-dd28d1b1688c",
   "metadata": {},
   "outputs": [],
   "source": [
    "import numpy as np\n",
    "from matplotlib.pyplot import *\n",
    "import emcee"
   ]
  },
  {
   "cell_type": "markdown",
   "id": "a0d8c26b-1b91-49e2-bfd8-f32422a76bec",
   "metadata": {},
   "source": [
    "### First defining functions to be used for the mcmc fit"
   ]
  },
  {
   "cell_type": "code",
   "execution_count": 19,
   "id": "bcb6ea43-159f-4cdc-bafa-c368b964b3aa",
   "metadata": {},
   "outputs": [],
   "source": [
    "def log_likelihood(theta, X, B, Berr):\n",
    "    IMFs = theta\n",
    "    spec = getSpec(IMFs) # This is where the function will generate a model with given IMF and spit back out B_pred (break strength)\n",
    "    Bpred = getBpred(spec)\n",
    "    return -0.5 * (B - Bpred) **2 / Berr **2\n",
    "\n",
    "def log_prior(theta):\n",
    "    \"\"\"Works so long as all the IMFs priors are from -10.0 to 10.0\n",
    "    \"\"\"\n",
    "    IMFs = theta\n",
    "    for IMF in IMFs:\n",
    "        if -10.0 < IMF < 10.0:\n",
    "            output = 0.0\n",
    "        else:\n",
    "            output = -np.inf\n",
    "            break\n",
    "    return output\n",
    "\n",
    "def log_probability(theta, X, B, Berr):\n",
    "    lp = log_prior(theta)\n",
    "    if not np.isfinite(lp):\n",
    "        return -np.inf\n",
    "    return lp + log_likelihood(theta, X, B, Berr)"
   ]
  },
  {
   "cell_type": "markdown",
   "id": "917ba079-88d8-47e2-81a2-d5b7b80ef517",
   "metadata": {},
   "source": [
    "### Defining functions for grabbing the spectra and calculating the break strength"
   ]
  },
  {
   "cell_type": "code",
   "execution_count": 24,
   "id": "470dba67-11de-4460-9706-e0d729e78a29",
   "metadata": {},
   "outputs": [],
   "source": [
    "def getSpec(IMFs):\n",
    "\n",
    "    return np.nan\n",
    "\n",
    "def getBreakIndices(wspec, zred=None, **extras):\n",
    "\n",
    "    a = 1.0 + zred\n",
    "    \n",
    "    blue, red = 3620, 4000\n",
    "    \n",
    "    all_indices = np.zeros(len(wspec), dtype=bool)\n",
    "    blue_lower, blue_upper, red_lower, red_upper = False, False, False, False\n",
    "    \n",
    "    for i, wave in enumerate(wspec/a):\n",
    "        if wave > blue and blue_lower==False:\n",
    "            all_indices[i], blue_lower = True, True\n",
    "        elif wave > blue+100 and blue_upper==False:\n",
    "            all_indices[i-1], blue_upper = True, True\n",
    "        elif wave > red and red_lower==False:\n",
    "            all_indices[i], red_lower = True, True\n",
    "        elif wave > red+100 and red_upper==False:\n",
    "            all_indices[i-1], red_upper = True, True\n",
    "    \n",
    "    true_indices = [index for index, value in enumerate(all_indices) if value]\n",
    "    return true_indices\n",
    "\n",
    "def getBpred(spec):\n",
    "\n",
    "    return np.nan"
   ]
  },
  {
   "cell_type": "markdown",
   "id": "f16a21e4-d0e2-4b23-b293-e9ed41728bed",
   "metadata": {},
   "source": [
    "### Now defining functions relevant to generating the models specifically"
   ]
  },
  {
   "cell_type": "code",
   "execution_count": 107,
   "id": "017c4b98-8d3a-4ec7-be4a-96783c704be8",
   "metadata": {},
   "outputs": [],
   "source": [
    "def getModel(mass=None, zred=None, logzsol=None, tage=None, tau=None, dust2=None, imf_type=None, sfh_type=None, **extras):\n",
    "    \"\"\"Build a prospect.models.SpecModel object\n",
    "\n",
    "    :param mass: (optional, default:None)\n",
    "        If given, produce spectra for this mass. Otherwise the mass will\n",
    "        be 1e10 solar masses.\n",
    "\n",
    "    :param zred: (optional, default: None)\n",
    "        If given, produce spectra and observed frame photometry appropriate\n",
    "        for this redshift. Otherwise the redshift will be zero.\n",
    "\n",
    "    :param logzsol: (optional, default: None)\n",
    "        If given, fix the model metallicity (:math: `log(Z/Z_sun)`) to the given value.\n",
    "        Otherwise the metallicity will be set to -0.5.\n",
    "        \n",
    "    :param tage: (optional, default: None)\n",
    "        If given, produce spectra and model photometry appropriate for\n",
    "        this galactic age. Otherwise the age will be set to 13. Gyrs.\n",
    "\n",
    "    :param dust2: (optional, default: None)\n",
    "        If given, produce spectra that are appropriate for provided dust\n",
    "        attenuation. Otherwise attenuation will be set to 0.6.\n",
    "\n",
    "    :returns model:\n",
    "        An instance of prospect.models.SedModel\n",
    "    \"\"\"\n",
    "    from prospect.models import SpecModel\n",
    "    from prospect.models.templates import TemplateLibrary\n",
    "\n",
    "    model_params = TemplateLibrary['parametric_sfh']\n",
    "    model_params.update(TemplateLibrary['burst_sfh'])\n",
    "\n",
    "    # Change `isfree` so that all parameters that will be kept track of are identified \n",
    "    # in the `model` object as `free_params`\n",
    "\n",
    "    if zred is not None:\n",
    "        model_params['zred']['init'] = zred\n",
    "\n",
    "    if mass is not None:\n",
    "        model_params['mass']['init'] = mass\n",
    "\n",
    "    if logzsol is not None:\n",
    "        model_params['logzsol']['init'] = logzsol\n",
    "\n",
    "    if tage is not None:\n",
    "        model_params['tage']['init'] = tage\n",
    "\n",
    "    if fage_burst is not None:\n",
    "        model_params['fage_burst']['init'] = fage_burst\n",
    "\n",
    "    if fburst is not None:\n",
    "        model_params['fburst']['init']\n",
    "\n",
    "    if tau is not None:\n",
    "        model_params['tau']['init'] = tau\n",
    "\n",
    "    if dust2 is not None:\n",
    "        model_params['dust2']['init'] = dust2\n",
    "\n",
    "    if imf_type is not None:\n",
    "        model_params['imf_type']['init'] = imf_type\n",
    "\n",
    "    if sfh_type is not None:\n",
    "        model_params['sfh']['init'] = sfh_type\n",
    "\n",
    "    \n",
    "    \n",
    "    model = SpecModel(model_params)\n",
    "\n",
    "    return model"
   ]
  },
  {
   "cell_type": "code",
   "execution_count": 176,
   "id": "39356714-328a-4731-a25d-57cd9aea99c8",
   "metadata": {},
   "outputs": [
    {
     "data": {
      "text/plain": [
       "{'zred': {'N': 1,\n",
       "  'isfree': False,\n",
       "  'init': 0.1,\n",
       "  'units': 'redshift',\n",
       "  'prior': <class 'prospect.models.priors.TopHat'>(mini=0.0,maxi=4.0)},\n",
       " 'mass': {'N': 1,\n",
       "  'isfree': True,\n",
       "  'init': 10000000000.0,\n",
       "  'units': 'Solar masses formed',\n",
       "  'prior': <class 'prospect.models.priors.LogUniform'>(mini=100000000.0,maxi=1000000000000.0)},\n",
       " 'logzsol': {'N': 1,\n",
       "  'isfree': True,\n",
       "  'init': -0.5,\n",
       "  'units': '$\\\\log (Z/Z_\\\\odot)$',\n",
       "  'prior': <class 'prospect.models.priors.TopHat'>(mini=-2,maxi=0.19)},\n",
       " 'dust2': {'N': 1,\n",
       "  'isfree': True,\n",
       "  'init': 0.6,\n",
       "  'units': 'optical depth at 5500AA',\n",
       "  'prior': <class 'prospect.models.priors.TopHat'>(mini=0.0,maxi=2.0)},\n",
       " 'sfh': {'N': 1, 'isfree': False, 'init': 4, 'units': 'FSPS index'},\n",
       " 'tage': {'N': 1,\n",
       "  'isfree': True,\n",
       "  'init': 1,\n",
       "  'units': 'Gyr',\n",
       "  'prior': <class 'prospect.models.priors.TopHat'>(mini=0.001,maxi=13.8)},\n",
       " 'imf_type': {'N': 1, 'isfree': False, 'init': 2},\n",
       " 'dust_type': {'N': 1, 'isfree': False, 'init': 0},\n",
       " 'tau': {'N': 1,\n",
       "  'isfree': True,\n",
       "  'init': 1,\n",
       "  'units': 'Gyr^{-1}',\n",
       "  'prior': <class 'prospect.models.priors.LogUniform'>(mini=0.1,maxi=30)},\n",
       " 'tburst': {'N': 1,\n",
       "  'isfree': False,\n",
       "  'init': 0.0,\n",
       "  'units': 'Gyr',\n",
       "  'prior': None,\n",
       "  'depends_on': <function prospect.models.transforms.tburst_from_fage(tage=0.0, fage_burst=0.0, **extras)>},\n",
       " 'fburst': {'N': 1,\n",
       "  'isfree': False,\n",
       "  'init': 0.0,\n",
       "  'units': 'fraction of total mass formed in the burst',\n",
       "  'prior': <class 'prospect.models.priors.TopHat'>(mini=0.0,maxi=0.5)},\n",
       " 'fage_burst': {'N': 1,\n",
       "  'isfree': False,\n",
       "  'init': 0.0,\n",
       "  'units': 'time at wich burst happens, as a fraction of `tage`',\n",
       "  'prior': <class 'prospect.models.priors.TopHat'>(mini=0.5,maxi=1.0)}}"
      ]
     },
     "execution_count": 176,
     "metadata": {},
     "output_type": "execute_result"
    }
   ],
   "source": [
    "model_params = TemplateLibrary['parametric_sfh']\n",
    "model_params.update(TemplateLibrary['burst_sfh'])\n",
    "model_params # Essentially a parametric sfh with a burst added on top with burst time controlled by `fage_burst`."
   ]
  },
  {
   "cell_type": "markdown",
   "id": "9ea785cc-5114-4113-9dd4-b0f0cec53213",
   "metadata": {},
   "source": [
    "-------------------\n"
   ]
  },
  {
   "cell_type": "markdown",
   "id": "c57c1b11-0f83-4c7b-8515-ecb85a4b5ec3",
   "metadata": {},
   "source": [
    "### Test cells"
   ]
  },
  {
   "cell_type": "code",
   "execution_count": 20,
   "id": "7370ca74-1217-41df-9bd6-15900aafa518",
   "metadata": {},
   "outputs": [
    {
     "name": "stdout",
     "output_type": "stream",
     "text": [
      "[2, 4, 6, 8, 10]\n"
     ]
    }
   ],
   "source": [
    "numbers = [1, 2, 3, 4, 5, 6, 7, 8, 9, 10]\n",
    "\n",
    "# Define a function to check for even numbers\n",
    "def is_even(num):\n",
    "    return num % 2 == 0\n",
    "\n",
    "# Use filter to get only even numbers\n",
    "even_numbers_iterator = filter(is_even, numbers)\n",
    "\n",
    "# Convert the iterator to a list\n",
    "even_numbers_list = list(even_numbers_iterator)\n",
    "print(even_numbers_list)\n",
    "# Output: [2, 4, 6, 8, 10]"
   ]
  },
  {
   "cell_type": "code",
   "execution_count": 22,
   "id": "f20cbac7-8313-4580-990f-930950de989c",
   "metadata": {},
   "outputs": [],
   "source": [
    "from prospect.models.templates import TemplateLibrary"
   ]
  },
  {
   "cell_type": "code",
   "execution_count": 108,
   "id": "c714e4eb-5aca-4151-b56d-16da00c79c96",
   "metadata": {},
   "outputs": [],
   "source": [
    "# Need to redefine all of the propspectFunctions for new use...\n",
    "\n",
    "from prospectFunctions import getParams, getObs, getSps, getWave\n",
    "\n",
    "imf_type = 2\n",
    "grid_ranges, run_params = getParams(imf_type=imf_type, len_logz=100, len_dust=6, len_tage=100, dust=True)\n",
    "a = 1.0 + run_params['zred']\n",
    "\n",
    "logzs = grid_ranges['logzsol']\n",
    "dusts = grid_ranges['dust2']\n",
    "tages = grid_ranges['tage']\n",
    "\n",
    "num_models = len(logzs)*len(dusts)*len(tages)\n",
    "\n",
    "obs = getObs(**run_params)\n",
    "sps = getSps(**run_params)\n",
    "wspec, wphot = getWave(obs=obs, sps=sps, **run_params)"
   ]
  },
  {
   "cell_type": "code",
   "execution_count": 103,
   "id": "a067a33d-8612-4977-86bf-aab1111b3914",
   "metadata": {},
   "outputs": [],
   "source": [
    "def getBreakIndices(wspec, zred=None, **extras):\n",
    "\n",
    "    a = 1.0 + zred\n",
    "    \n",
    "    blue, red = 3620, 4000\n",
    "    \n",
    "    all_indices = np.zeros(len(wspec), dtype=bool)\n",
    "    blue_lower, blue_upper, red_lower, red_upper = False, False, False, False\n",
    "    \n",
    "    for i, wave in enumerate(wspec/a):\n",
    "        if wave > blue and blue_lower==False:\n",
    "            all_indices[i], blue_lower = True, True\n",
    "        elif wave > blue+100 and blue_upper==False:\n",
    "            all_indices[i-1], blue_upper = True, True\n",
    "        elif wave > red and red_lower==False:\n",
    "            all_indices[i], red_lower = True, True\n",
    "        elif wave > red+100 and red_upper==False:\n",
    "            all_indices[i-1], red_upper = True, True\n",
    "    \n",
    "    true_indices = [index for index, value in enumerate(all_indices) if value]\n",
    "    \n",
    "    return true_indices"
   ]
  },
  {
   "cell_type": "code",
   "execution_count": 106,
   "id": "7d729ffd-4044-4b3a-9143-59638faa85f5",
   "metadata": {},
   "outputs": [
    {
     "data": {
      "text/plain": [
       "array([3620.7322, 3719.7578, 4000.6309, 4099.6568])"
      ]
     },
     "execution_count": 106,
     "metadata": {},
     "output_type": "execute_result"
    }
   ],
   "source": [
    "test = getBreakIndices(wspec, **run_params)\n",
    "wspec[test]/a"
   ]
  },
  {
   "cell_type": "code",
   "execution_count": 69,
   "id": "4bca2b71-5a0e-4c7e-90dc-c662273c5de7",
   "metadata": {},
   "outputs": [
    {
     "name": "stdout",
     "output_type": "stream",
     "text": [
      "[382, 492, 804, 914] [3620.7322 3719.7578 4000.6309 4099.6568]\n"
     ]
    }
   ],
   "source": [
    "test[test == True]\n",
    "true_indices = [index for index, value in enumerate(test) if value]\n",
    "print(true_indices, wspec[true_indices]/a)"
   ]
  },
  {
   "cell_type": "code",
   "execution_count": 71,
   "id": "884d6c1d-268a-4831-bcf0-d71d6bab97e9",
   "metadata": {},
   "outputs": [
    {
     "data": {
      "text/plain": [
       "(array([3619.832 , 3620.7322]),\n",
       " array([3719.7578, 3720.6582]),\n",
       " array([3999.7308, 4000.6309]),\n",
       " array([4099.6568, 4100.5569]))"
      ]
     },
     "execution_count": 71,
     "metadata": {},
     "output_type": "execute_result"
    }
   ],
   "source": [
    "wspec[381:383]/a, wspec[492:494]/a, wspec[803:805]/a, wspec[914:916]/a"
   ]
  },
  {
   "cell_type": "markdown",
   "id": "f556ce2e-3ffc-40a5-8c5b-a5116d123bf9",
   "metadata": {},
   "source": [
    "### Getting a model param that matches the model type we're looking for"
   ]
  },
  {
   "cell_type": "code",
   "execution_count": 171,
   "id": "e6f6990d-a198-4d91-85de-c50c78722eb7",
   "metadata": {},
   "outputs": [],
   "source": [
    "# TemplateLibrary.show_contents()"
   ]
  },
  {
   "cell_type": "code",
   "execution_count": 175,
   "id": "4561710a-89ac-46e9-8a28-27d6885fdfc9",
   "metadata": {},
   "outputs": [
    {
     "data": {
      "text/plain": [
       "{'zred': {'N': 1,\n",
       "  'isfree': False,\n",
       "  'init': 0.1,\n",
       "  'units': 'redshift',\n",
       "  'prior': <class 'prospect.models.priors.TopHat'>(mini=0.0,maxi=4.0)},\n",
       " 'mass': {'N': 1,\n",
       "  'isfree': True,\n",
       "  'init': 10000000000.0,\n",
       "  'units': 'Solar masses formed',\n",
       "  'prior': <class 'prospect.models.priors.LogUniform'>(mini=100000000.0,maxi=1000000000000.0)},\n",
       " 'logzsol': {'N': 1,\n",
       "  'isfree': True,\n",
       "  'init': -0.5,\n",
       "  'units': '$\\\\log (Z/Z_\\\\odot)$',\n",
       "  'prior': <class 'prospect.models.priors.TopHat'>(mini=-2,maxi=0.19)},\n",
       " 'dust2': {'N': 1,\n",
       "  'isfree': True,\n",
       "  'init': 0.6,\n",
       "  'units': 'optical depth at 5500AA',\n",
       "  'prior': <class 'prospect.models.priors.TopHat'>(mini=0.0,maxi=2.0)},\n",
       " 'sfh': {'N': 1, 'isfree': False, 'init': 4, 'units': 'FSPS index'},\n",
       " 'tage': {'N': 1,\n",
       "  'isfree': True,\n",
       "  'init': 1,\n",
       "  'units': 'Gyr',\n",
       "  'prior': <class 'prospect.models.priors.TopHat'>(mini=0.001,maxi=13.8)},\n",
       " 'imf_type': {'N': 1, 'isfree': False, 'init': 2},\n",
       " 'dust_type': {'N': 1, 'isfree': False, 'init': 0},\n",
       " 'tau': {'N': 1,\n",
       "  'isfree': True,\n",
       "  'init': 1,\n",
       "  'units': 'Gyr^{-1}',\n",
       "  'prior': <class 'prospect.models.priors.LogUniform'>(mini=0.1,maxi=30)},\n",
       " 'tburst': {'N': 1,\n",
       "  'isfree': False,\n",
       "  'init': 0.0,\n",
       "  'units': 'Gyr',\n",
       "  'prior': None,\n",
       "  'depends_on': <function prospect.models.transforms.tburst_from_fage(tage=0.0, fage_burst=0.0, **extras)>},\n",
       " 'fburst': {'N': 1,\n",
       "  'isfree': False,\n",
       "  'init': 0.0,\n",
       "  'units': 'fraction of total mass formed in the burst',\n",
       "  'prior': <class 'prospect.models.priors.TopHat'>(mini=0.0,maxi=0.5)},\n",
       " 'fage_burst': {'N': 1,\n",
       "  'isfree': False,\n",
       "  'init': 0.0,\n",
       "  'units': 'time at wich burst happens, as a fraction of `tage`',\n",
       "  'prior': <class 'prospect.models.priors.TopHat'>(mini=0.5,maxi=1.0)}}"
      ]
     },
     "execution_count": 175,
     "metadata": {},
     "output_type": "execute_result"
    }
   ],
   "source": [
    "model_params = TemplateLibrary['parametric_sfh']\n",
    "model_params.update(TemplateLibrary['burst_sfh'])\n",
    "model_params # Essentially a parametric sfh with a burst added on top with burst time controlled by `fage_burst`."
   ]
  },
  {
   "cell_type": "code",
   "execution_count": null,
   "id": "e1c2a9db-4651-43d9-bf2c-555a80066906",
   "metadata": {},
   "outputs": [],
   "source": []
  }
 ],
 "metadata": {
  "kernelspec": {
   "display_name": "reu",
   "language": "python",
   "name": "reu"
  },
  "language_info": {
   "codemirror_mode": {
    "name": "ipython",
    "version": 3
   },
   "file_extension": ".py",
   "mimetype": "text/x-python",
   "name": "python",
   "nbconvert_exporter": "python",
   "pygments_lexer": "ipython3",
   "version": "3.13.4"
  }
 },
 "nbformat": 4,
 "nbformat_minor": 5
}
