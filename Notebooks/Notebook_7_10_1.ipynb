{
 "cells": [
  {
   "cell_type": "code",
   "execution_count": null,
   "id": "6b239295-f119-444f-b38a-dd28d1b1688c",
   "metadata": {},
   "outputs": [],
   "source": []
  }
 ],
 "metadata": {
  "kernelspec": {
   "display_name": "",
   "name": ""
  },
  "language_info": {
   "name": ""
  }
 },
 "nbformat": 4,
 "nbformat_minor": 5
}
